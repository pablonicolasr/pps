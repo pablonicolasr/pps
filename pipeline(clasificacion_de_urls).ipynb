{
 "cells": [
  {
   "cell_type": "markdown",
   "metadata": {
    "colab_type": "text",
    "id": "view-in-github"
   },
   "source": [
    "<a href=\"https://colab.research.google.com/github/Melisa7L/PPS/blob/main/pipeline(clasificacion_de_urls).ipynb\" target=\"_parent\"><img src=\"https://colab.research.google.com/assets/colab-badge.svg\" alt=\"Open In Colab\"/></a>"
   ]
  },
  {
   "cell_type": "markdown",
   "metadata": {
    "id": "Br9Cl5XG-1E7"
   },
   "source": [
    "librerias"
   ]
  },
  {
   "cell_type": "code",
   "execution_count": 2,
   "metadata": {
    "colab": {
     "base_uri": "https://localhost:8080/"
    },
    "id": "DQhF8zLG-2wt",
    "outputId": "4f560736-d2bf-4523-d423-3adb3ec717db"
   },
   "outputs": [
    {
     "name": "stdout",
     "output_type": "stream",
     "text": [
      "Requirement already satisfied: requests in /usr/local/lib/python3.10/dist-packages (2.31.0)\n",
      "Requirement already satisfied: charset-normalizer<4,>=2 in /usr/local/lib/python3.10/dist-packages (from requests) (3.3.2)\n",
      "Requirement already satisfied: idna<4,>=2.5 in /usr/local/lib/python3.10/dist-packages (from requests) (3.4)\n",
      "Requirement already satisfied: urllib3<3,>=1.21.1 in /usr/local/lib/python3.10/dist-packages (from requests) (2.0.7)\n",
      "Requirement already satisfied: certifi>=2017.4.17 in /usr/local/lib/python3.10/dist-packages (from requests) (2023.7.22)\n"
     ]
    }
   ],
   "source": [
    "pip install requests"
   ]
  },
  {
   "cell_type": "code",
   "execution_count": 3,
   "metadata": {
    "colab": {
     "base_uri": "https://localhost:8080/"
    },
    "id": "dQ--WVCW_FLv",
    "outputId": "fc2177b1-258c-4b2b-ac9d-c0331a96a1b5"
   },
   "outputs": [
    {
     "name": "stdout",
     "output_type": "stream",
     "text": [
      "Requirement already satisfied: beautifulsoup4 in /usr/local/lib/python3.10/dist-packages (4.11.2)\n",
      "Requirement already satisfied: soupsieve>1.2 in /usr/local/lib/python3.10/dist-packages (from beautifulsoup4) (2.5)\n"
     ]
    }
   ],
   "source": [
    "pip install beautifulsoup4"
   ]
  },
  {
   "cell_type": "code",
   "execution_count": 4,
   "metadata": {
    "colab": {
     "base_uri": "https://localhost:8080/"
    },
    "id": "4PLi2gwB_Fiu",
    "outputId": "80c1678d-fa54-4add-ec6f-9ae61c010a1e"
   },
   "outputs": [
    {
     "name": "stdout",
     "output_type": "stream",
     "text": [
      "Requirement already satisfied: pandas in /usr/local/lib/python3.10/dist-packages (1.5.3)\n",
      "Requirement already satisfied: python-dateutil>=2.8.1 in /usr/local/lib/python3.10/dist-packages (from pandas) (2.8.2)\n",
      "Requirement already satisfied: pytz>=2020.1 in /usr/local/lib/python3.10/dist-packages (from pandas) (2023.3.post1)\n",
      "Requirement already satisfied: numpy>=1.21.0 in /usr/local/lib/python3.10/dist-packages (from pandas) (1.23.5)\n",
      "Requirement already satisfied: six>=1.5 in /usr/local/lib/python3.10/dist-packages (from python-dateutil>=2.8.1->pandas) (1.16.0)\n"
     ]
    }
   ],
   "source": [
    "pip install pandas"
   ]
  },
  {
   "cell_type": "code",
   "execution_count": 6,
   "metadata": {
    "colab": {
     "base_uri": "https://localhost:8080/"
    },
    "id": "A5ms9zsrAPYa",
    "outputId": "ef2640a9-5263-449f-ebe6-688fa939bcd2"
   },
   "outputs": [
    {
     "name": "stdout",
     "output_type": "stream",
     "text": [
      "Collecting xlsxwriter\n",
      "  Downloading XlsxWriter-3.1.9-py3-none-any.whl (154 kB)\n",
      "\u001b[2K     \u001b[90m━━━━━━━━━━━━━━━━━━━━━━━━━━━━━━━━━━━━━━━━\u001b[0m \u001b[32m154.8/154.8 kB\u001b[0m \u001b[31m2.9 MB/s\u001b[0m eta \u001b[36m0:00:00\u001b[0m\n",
      "\u001b[?25hInstalling collected packages: xlsxwriter\n",
      "Successfully installed xlsxwriter-3.1.9\n"
     ]
    }
   ],
   "source": [
    "pip install xlsxwriter"
   ]
  },
  {
   "cell_type": "markdown",
   "metadata": {
    "id": "FeAVMxNP-3Np"
   },
   "source": [
    "*Codigo donde se colocan las urls que se quieren analizar y de ahi comienza el proceso de clasificarlas de acuerdo a palabras clave y el contenido de las mismas*\n",
    "Al final de la clasificacion se genera un excel que contiene los datos clasificados y ordenados en 5 columnas :'fecha_noticia', 'titulo_noticia', 'texto_noticia', 'longitud_noticia', 'categoria' ."
   ]
  },
  {
   "cell_type": "code",
   "execution_count": 7,
   "metadata": {
    "colab": {
     "base_uri": "https://localhost:8080/"
    },
    "id": "Uyt2hjsA-oSh",
    "outputId": "e925473c-6817-4f8d-eebb-ef2647bbefec"
   },
   "outputs": [
    {
     "name": "stdout",
     "output_type": "stream",
     "text": [
      "              fecha_noticia  \\\n",
      "5  2023-11-27T21:14:44.000Z   \n",
      "0  2023-11-28T10:27:00.000Z   \n",
      "2  2023-11-28T11:16:08.000Z   \n",
      "4  2023-11-27T13:57:17.000Z   \n",
      "1  2023-11-28T10:33:00.000Z   \n",
      "3  2023-11-27T23:58:55.000Z   \n",
      "\n",
      "                                      titulo_noticia  \\\n",
      "5  Emotivo: Taylor Swift recibió a la familia de ...   \n",
      "0  Mundial Sub 17: Argentina cayó frente a Aleman...   \n",
      "2  Dólar blue hoy: a cuánto cotiza el 28 de novie...   \n",
      "4  Alerta Android: una app de mensajes espía tus ...   \n",
      "1  Javier Milei se reúne Jake Sullivan, asesor de...   \n",
      "3           Horóscopo de hoy, martes 28 de noviembre   \n",
      "\n",
      "                                       texto_noticia  longitud_noticia  \\\n",
      "5  Ana Clara Benavides falleció en la previa al p...              2265   \n",
      "0  Los dirigidos por Diego Placente lograron igua...              4071   \n",
      "2  El tipo de cambio informal opera a $999 en el ...              3277   \n",
      "4  La aplicación fue retirada de la tienda oficia...              3316   \n",
      "1  El presidente electo dialogará con un hombre c...              2853   \n",
      "3  Empezó otro día. Enterate de todo lo que te de...              3628   \n",
      "\n",
      "         categoria  \n",
      "5          cultura  \n",
      "0         deportes  \n",
      "2         economia  \n",
      "4  entretenimiento  \n",
      "1         politica  \n",
      "3            salud  \n",
      "Los datos se han guardado en 'Data.xlsx'.\n"
     ]
    }
   ],
   "source": [
    "import requests\n",
    "from bs4 import BeautifulSoup\n",
    "import pandas as pd\n",
    "\n",
    "# Lista de URLs para scrapear son algunas de ejemplo\n",
    "urls = [\n",
    "    'https://www.c5n.com/deportes/mundial-sub-17-argentina-cayo-frente-alemania-y-jugara-el-tercer-puesto-n136601',\n",
    "    'https://www.c5n.com/politica/javier-milei-se-reune-jake-sullivan-asesor-seguridad-nacional-joe-biden-n136598',\n",
    "    'https://www.c5n.com/economia/dolar-blue-hoy-cuanto-cotiza-el-28-noviembre-n136604',\n",
    "    'https://www.c5n.com/astrologia/horoscopo-hoy-martes-28-noviembre-n136580',\n",
    "    'https://www.c5n.com/tecnologia/alerta-android-una-app-mensajes-espia-tus-datos-n136409',\n",
    "    'https://www.c5n.com/ratingcero/emotivo-taylor-swift-recibio-la-familia-la-fanatica-que-murio-brasil-n136557'\n",
    "]\n",
    "\n",
    "# Palabras clave a buscar en las URLs\n",
    "keywords = ['article', 'noticias', 'news', 'nota', '/']\n",
    "\n",
    "# Algunas palabras clave para cada categoría\n",
    "palabras_clave = {\n",
    "    'salud': ['salud', 'medicina', 'enfermedad', 'medico', 'bienestar'],\n",
    "    'deportes': ['deportes', 'futbol', 'baloncesto', 'tenis', 'competicion'],\n",
    "    'medioambiente': ['medioambiente', 'ecologia', 'naturaleza', 'sostenibilidad', 'cambio climatico'],\n",
    "    'economia': ['economia', 'finanzas', 'negocios', 'mercado', 'inversion'],\n",
    "    'politica': ['politica', 'gobierno', 'elecciones', 'legislación', 'parlamento'],\n",
    "    'entretenimiento': ['entretenimiento', 'cine', 'musica', 'celebridades', 'espectaculos'],\n",
    "    'horoscopo': ['horoscopo', 'astrologia', 'signos zodiacales', 'predicciones', 'astrologia diaria'],\n",
    "    'cultura': ['cultura', 'arte', 'literatura', 'tradiciones', 'patrimonio'],\n",
    "    'ciencia_tecnologia': ['ciencia', 'tecnologia', 'innovacion', 'descubrimientos', 'avances cientificos'],\n",
    "    'educacion': ['educacion', 'escuela', 'aprendizaje', 'docentes', 'formacion']\n",
    "}\n",
    "\n",
    "# Creacion de listas para almacenar datos\n",
    "fechas = []\n",
    "textos = []\n",
    "titulos = []\n",
    "categorias = []\n",
    "\n",
    "# Función para determinar la categoría de la noticia\n",
    "def determinar_categoria(texto_noticia):\n",
    "    for categoria, palabras in palabras_clave.items():\n",
    "        for palabra in palabras:\n",
    "            if palabra in texto_noticia.lower():\n",
    "                return categoria\n",
    "    return 'Otra'\n",
    "\n",
    "# Función para obtener los datos de una URL\n",
    "def scrape_noticia(url):\n",
    "    response = requests.get(url)\n",
    "    soup = BeautifulSoup(response.content, 'html.parser')\n",
    "\n",
    "    # Extrae el título de la noticia\n",
    "    titulo_noticia = soup.find('h1').text.strip() if soup.find('h1') else \"no especificado\"\n",
    "\n",
    "    # Extrae el texto de la noticia\n",
    "    texto_noticia = ' '.join([p.text.strip() for p in soup.find_all('p')])\n",
    "\n",
    "    # Determina la categoría de la noticia\n",
    "    categoria = determinar_categoria(texto_noticia)\n",
    "\n",
    "    # Para extraer la fecha de la noticia\n",
    "    fecha_noticia = soup.find(['time', 'span', 'p', 'publication-date', 'fecha'], {'datetime': True})\n",
    "    fecha_noticia = fecha_noticia['datetime'].strip() if fecha_noticia else \"Fecha no encontrada\"\n",
    "\n",
    "    fechas.append(fecha_noticia)\n",
    "    textos.append(texto_noticia)\n",
    "    titulos.append(titulo_noticia)\n",
    "    categorias.append(categoria)\n",
    "\n",
    "# Iterar a través de las urls y extraer los datos de cada una\n",
    "for url in urls:\n",
    "    scrape_noticia(url)\n",
    "\n",
    "# Crear un DataFrame con los datos recopilados anteriormente\n",
    "data = {\n",
    "    'fecha_noticia': fechas,\n",
    "    'titulo_noticia': titulos,\n",
    "    'texto_noticia': textos,\n",
    "    'categoria': categorias\n",
    "}\n",
    "\n",
    "df = pd.DataFrame(data)\n",
    "\n",
    "# Calcular la longitud de la noticia\n",
    "df['longitud_noticia'] = df['texto_noticia'].apply(len)\n",
    "\n",
    "# Se ordenan las columnas en este orden que elegi\n",
    "df = df[['fecha_noticia', 'titulo_noticia', 'texto_noticia', 'longitud_noticia', 'categoria']]\n",
    "\n",
    "# Ordenar el DataFrame por 'categoria' y 'fecha_noticia'\n",
    "df = df.sort_values(by=['categoria', 'fecha_noticia'])\n",
    "\n",
    "# Guardar el DataFrame en un archivo Excel (.xlsx)\n",
    "output_file = 'Data.xlsx'\n",
    "df.to_excel(output_file, index=False, engine='xlsxwriter')\n",
    "\n",
    "# Imprimir el DataFrame\n",
    "print(df)\n",
    "\n",
    "# Imprimir mensaje de confirmación\n",
    "print(f\"Los datos se han guardado en '{output_file}'.\")\n"
   ]
  }
 ],
 "metadata": {
  "colab": {
   "authorship_tag": "ABX9TyMYyfCFCrNbshtVIXiTxego",
   "include_colab_link": true,
   "provenance": []
  },
  "kernelspec": {
   "display_name": "Python 3 (ipykernel)",
   "language": "python",
   "name": "python3"
  },
  "language_info": {
   "codemirror_mode": {
    "name": "ipython",
    "version": 3
   },
   "file_extension": ".py",
   "mimetype": "text/x-python",
   "name": "python",
   "nbconvert_exporter": "python",
   "pygments_lexer": "ipython3",
   "version": "3.9.18"
  }
 },
 "nbformat": 4,
 "nbformat_minor": 4
}
