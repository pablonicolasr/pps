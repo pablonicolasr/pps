{
  "nbformat": 4,
  "nbformat_minor": 0,
  "metadata": {
    "colab": {
      "provenance": [],
      "authorship_tag": "ABX9TyMxYRxXLye0H3KbYBI1vpGW",
      "include_colab_link": true
    },
    "kernelspec": {
      "name": "python3",
      "display_name": "Python 3"
    },
    "language_info": {
      "name": "python"
    }
  },
  "cells": [
    {
      "cell_type": "markdown",
      "metadata": {
        "id": "view-in-github",
        "colab_type": "text"
      },
      "source": [
        "<a href=\"https://colab.research.google.com/github/Melisa7L/PPS/blob/main/PPS_RandomForest.ipynb\" target=\"_parent\"><img src=\"https://colab.research.google.com/assets/colab-badge.svg\" alt=\"Open In Colab\"/></a>"
      ]
    },
    {
      "cell_type": "markdown",
      "source": [
        "Se importan las librerias"
      ],
      "metadata": {
        "id": "ntHKS5Ul_Rdy"
      }
    },
    {
      "cell_type": "code",
      "execution_count": 4,
      "metadata": {
        "id": "wFdXtz77-8qW"
      },
      "outputs": [],
      "source": [
        "import numpy as np\n",
        "import pandas as pd\n",
        "import matplotlib.pyplot as plt\n",
        "import seaborn as sns\n",
        "\n",
        "sns.set(style='whitegrid', context='notebook')"
      ]
    },
    {
      "cell_type": "markdown",
      "source": [
        "Cargo el dataset de las noticias"
      ],
      "metadata": {
        "id": "USOIkR0g_XJH"
      }
    },
    {
      "cell_type": "code",
      "source": [
        "# Lectura del excel\n",
        "from google.colab import drive\n",
        "drive.mount('/gdrive')\n",
        "# Ruta del archivo en Google Drive\n",
        "ruta = \"/gdrive/My Drive/Limpieza/Data_Completo_Limpio.xlsx\"\n",
        "columns_names = ['fecha_noticia','titulo_noticia','texto_noticia','longitud_noticia','categoria']\n",
        "# Se carga el archivo Excel en un DataFrame de pandas\n",
        "df = pd.read_excel(ruta)"
      ],
      "metadata": {
        "colab": {
          "base_uri": "https://localhost:8080/"
        },
        "id": "-sC1bcwY_VGO",
        "outputId": "761e93d9-5ce9-4a9f-ad26-0fbdaeb48530"
      },
      "execution_count": 5,
      "outputs": [
        {
          "output_type": "stream",
          "name": "stdout",
          "text": [
            "Mounted at /gdrive\n"
          ]
        }
      ]
    },
    {
      "cell_type": "code",
      "source": [
        "# Visualizacion del DataFrame\n",
        "df.head()"
      ],
      "metadata": {
        "colab": {
          "base_uri": "https://localhost:8080/",
          "height": 206
        },
        "id": "iCPwoWx2_osc",
        "outputId": "b3238028-83e2-413b-f4d4-692a437a9ebc"
      },
      "execution_count": 6,
      "outputs": [
        {
          "output_type": "execute_result",
          "data": {
            "text/plain": [
              "          fecha_noticia                                     titulo_noticia  \\\n",
              "0  2023-05-03T12:00:00Z  El debate de la ética de la IA no es tecnológi...   \n",
              "1   2023-09-01 13:16:41                           Presidencia de la Nación   \n",
              "2   Fecha no encontrada  Investigadores identifican 574 especies exótic...   \n",
              "3   Fecha no encontrada  Datos de una antigua misión permiten mapear el...   \n",
              "4   Fecha no encontrada  Dos llamativas nuevas plantas carnívoras descr...   \n",
              "\n",
              "                                       texto_noticia  longitud_noticia  \\\n",
              "0  Facebook\\nTwitter\\nImprimir\\nCorreo electrónic...             16533   \n",
              "1  Hasta el 22 de septiembre las instituciones po...              3079   \n",
              "2  Menú Abonados ALICANTE, 27 Jun. (EUROPA PRESS)...              3389   \n",
              "3  Menú Abonados Datos adquiridos durante la pasa...              3731   \n",
              "4  Menú Abonados Dos nuevas especies de plantas c...              4378   \n",
              "\n",
              "            categoria  \n",
              "0  ciencia_tecnologia  \n",
              "1  ciencia_tecnologia  \n",
              "2  ciencia_tecnologia  \n",
              "3  ciencia_tecnologia  \n",
              "4  ciencia_tecnologia  "
            ],
            "text/html": [
              "\n",
              "  <div id=\"df-5c7fc9e5-6f43-4e14-86d3-6847ef67f536\" class=\"colab-df-container\">\n",
              "    <div>\n",
              "<style scoped>\n",
              "    .dataframe tbody tr th:only-of-type {\n",
              "        vertical-align: middle;\n",
              "    }\n",
              "\n",
              "    .dataframe tbody tr th {\n",
              "        vertical-align: top;\n",
              "    }\n",
              "\n",
              "    .dataframe thead th {\n",
              "        text-align: right;\n",
              "    }\n",
              "</style>\n",
              "<table border=\"1\" class=\"dataframe\">\n",
              "  <thead>\n",
              "    <tr style=\"text-align: right;\">\n",
              "      <th></th>\n",
              "      <th>fecha_noticia</th>\n",
              "      <th>titulo_noticia</th>\n",
              "      <th>texto_noticia</th>\n",
              "      <th>longitud_noticia</th>\n",
              "      <th>categoria</th>\n",
              "    </tr>\n",
              "  </thead>\n",
              "  <tbody>\n",
              "    <tr>\n",
              "      <th>0</th>\n",
              "      <td>2023-05-03T12:00:00Z</td>\n",
              "      <td>El debate de la ética de la IA no es tecnológi...</td>\n",
              "      <td>Facebook\\nTwitter\\nImprimir\\nCorreo electrónic...</td>\n",
              "      <td>16533</td>\n",
              "      <td>ciencia_tecnologia</td>\n",
              "    </tr>\n",
              "    <tr>\n",
              "      <th>1</th>\n",
              "      <td>2023-09-01 13:16:41</td>\n",
              "      <td>Presidencia de la Nación</td>\n",
              "      <td>Hasta el 22 de septiembre las instituciones po...</td>\n",
              "      <td>3079</td>\n",
              "      <td>ciencia_tecnologia</td>\n",
              "    </tr>\n",
              "    <tr>\n",
              "      <th>2</th>\n",
              "      <td>Fecha no encontrada</td>\n",
              "      <td>Investigadores identifican 574 especies exótic...</td>\n",
              "      <td>Menú Abonados ALICANTE, 27 Jun. (EUROPA PRESS)...</td>\n",
              "      <td>3389</td>\n",
              "      <td>ciencia_tecnologia</td>\n",
              "    </tr>\n",
              "    <tr>\n",
              "      <th>3</th>\n",
              "      <td>Fecha no encontrada</td>\n",
              "      <td>Datos de una antigua misión permiten mapear el...</td>\n",
              "      <td>Menú Abonados Datos adquiridos durante la pasa...</td>\n",
              "      <td>3731</td>\n",
              "      <td>ciencia_tecnologia</td>\n",
              "    </tr>\n",
              "    <tr>\n",
              "      <th>4</th>\n",
              "      <td>Fecha no encontrada</td>\n",
              "      <td>Dos llamativas nuevas plantas carnívoras descr...</td>\n",
              "      <td>Menú Abonados Dos nuevas especies de plantas c...</td>\n",
              "      <td>4378</td>\n",
              "      <td>ciencia_tecnologia</td>\n",
              "    </tr>\n",
              "  </tbody>\n",
              "</table>\n",
              "</div>\n",
              "    <div class=\"colab-df-buttons\">\n",
              "\n",
              "  <div class=\"colab-df-container\">\n",
              "    <button class=\"colab-df-convert\" onclick=\"convertToInteractive('df-5c7fc9e5-6f43-4e14-86d3-6847ef67f536')\"\n",
              "            title=\"Convert this dataframe to an interactive table.\"\n",
              "            style=\"display:none;\">\n",
              "\n",
              "  <svg xmlns=\"http://www.w3.org/2000/svg\" height=\"24px\" viewBox=\"0 -960 960 960\">\n",
              "    <path d=\"M120-120v-720h720v720H120Zm60-500h600v-160H180v160Zm220 220h160v-160H400v160Zm0 220h160v-160H400v160ZM180-400h160v-160H180v160Zm440 0h160v-160H620v160ZM180-180h160v-160H180v160Zm440 0h160v-160H620v160Z\"/>\n",
              "  </svg>\n",
              "    </button>\n",
              "\n",
              "  <style>\n",
              "    .colab-df-container {\n",
              "      display:flex;\n",
              "      gap: 12px;\n",
              "    }\n",
              "\n",
              "    .colab-df-convert {\n",
              "      background-color: #E8F0FE;\n",
              "      border: none;\n",
              "      border-radius: 50%;\n",
              "      cursor: pointer;\n",
              "      display: none;\n",
              "      fill: #1967D2;\n",
              "      height: 32px;\n",
              "      padding: 0 0 0 0;\n",
              "      width: 32px;\n",
              "    }\n",
              "\n",
              "    .colab-df-convert:hover {\n",
              "      background-color: #E2EBFA;\n",
              "      box-shadow: 0px 1px 2px rgba(60, 64, 67, 0.3), 0px 1px 3px 1px rgba(60, 64, 67, 0.15);\n",
              "      fill: #174EA6;\n",
              "    }\n",
              "\n",
              "    .colab-df-buttons div {\n",
              "      margin-bottom: 4px;\n",
              "    }\n",
              "\n",
              "    [theme=dark] .colab-df-convert {\n",
              "      background-color: #3B4455;\n",
              "      fill: #D2E3FC;\n",
              "    }\n",
              "\n",
              "    [theme=dark] .colab-df-convert:hover {\n",
              "      background-color: #434B5C;\n",
              "      box-shadow: 0px 1px 3px 1px rgba(0, 0, 0, 0.15);\n",
              "      filter: drop-shadow(0px 1px 2px rgba(0, 0, 0, 0.3));\n",
              "      fill: #FFFFFF;\n",
              "    }\n",
              "  </style>\n",
              "\n",
              "    <script>\n",
              "      const buttonEl =\n",
              "        document.querySelector('#df-5c7fc9e5-6f43-4e14-86d3-6847ef67f536 button.colab-df-convert');\n",
              "      buttonEl.style.display =\n",
              "        google.colab.kernel.accessAllowed ? 'block' : 'none';\n",
              "\n",
              "      async function convertToInteractive(key) {\n",
              "        const element = document.querySelector('#df-5c7fc9e5-6f43-4e14-86d3-6847ef67f536');\n",
              "        const dataTable =\n",
              "          await google.colab.kernel.invokeFunction('convertToInteractive',\n",
              "                                                    [key], {});\n",
              "        if (!dataTable) return;\n",
              "\n",
              "        const docLinkHtml = 'Like what you see? Visit the ' +\n",
              "          '<a target=\"_blank\" href=https://colab.research.google.com/notebooks/data_table.ipynb>data table notebook</a>'\n",
              "          + ' to learn more about interactive tables.';\n",
              "        element.innerHTML = '';\n",
              "        dataTable['output_type'] = 'display_data';\n",
              "        await google.colab.output.renderOutput(dataTable, element);\n",
              "        const docLink = document.createElement('div');\n",
              "        docLink.innerHTML = docLinkHtml;\n",
              "        element.appendChild(docLink);\n",
              "      }\n",
              "    </script>\n",
              "  </div>\n",
              "\n",
              "\n",
              "<div id=\"df-f70476a3-74de-4e99-a692-5774919bc17c\">\n",
              "  <button class=\"colab-df-quickchart\" onclick=\"quickchart('df-f70476a3-74de-4e99-a692-5774919bc17c')\"\n",
              "            title=\"Suggest charts\"\n",
              "            style=\"display:none;\">\n",
              "\n",
              "<svg xmlns=\"http://www.w3.org/2000/svg\" height=\"24px\"viewBox=\"0 0 24 24\"\n",
              "     width=\"24px\">\n",
              "    <g>\n",
              "        <path d=\"M19 3H5c-1.1 0-2 .9-2 2v14c0 1.1.9 2 2 2h14c1.1 0 2-.9 2-2V5c0-1.1-.9-2-2-2zM9 17H7v-7h2v7zm4 0h-2V7h2v10zm4 0h-2v-4h2v4z\"/>\n",
              "    </g>\n",
              "</svg>\n",
              "  </button>\n",
              "\n",
              "<style>\n",
              "  .colab-df-quickchart {\n",
              "      --bg-color: #E8F0FE;\n",
              "      --fill-color: #1967D2;\n",
              "      --hover-bg-color: #E2EBFA;\n",
              "      --hover-fill-color: #174EA6;\n",
              "      --disabled-fill-color: #AAA;\n",
              "      --disabled-bg-color: #DDD;\n",
              "  }\n",
              "\n",
              "  [theme=dark] .colab-df-quickchart {\n",
              "      --bg-color: #3B4455;\n",
              "      --fill-color: #D2E3FC;\n",
              "      --hover-bg-color: #434B5C;\n",
              "      --hover-fill-color: #FFFFFF;\n",
              "      --disabled-bg-color: #3B4455;\n",
              "      --disabled-fill-color: #666;\n",
              "  }\n",
              "\n",
              "  .colab-df-quickchart {\n",
              "    background-color: var(--bg-color);\n",
              "    border: none;\n",
              "    border-radius: 50%;\n",
              "    cursor: pointer;\n",
              "    display: none;\n",
              "    fill: var(--fill-color);\n",
              "    height: 32px;\n",
              "    padding: 0;\n",
              "    width: 32px;\n",
              "  }\n",
              "\n",
              "  .colab-df-quickchart:hover {\n",
              "    background-color: var(--hover-bg-color);\n",
              "    box-shadow: 0 1px 2px rgba(60, 64, 67, 0.3), 0 1px 3px 1px rgba(60, 64, 67, 0.15);\n",
              "    fill: var(--button-hover-fill-color);\n",
              "  }\n",
              "\n",
              "  .colab-df-quickchart-complete:disabled,\n",
              "  .colab-df-quickchart-complete:disabled:hover {\n",
              "    background-color: var(--disabled-bg-color);\n",
              "    fill: var(--disabled-fill-color);\n",
              "    box-shadow: none;\n",
              "  }\n",
              "\n",
              "  .colab-df-spinner {\n",
              "    border: 2px solid var(--fill-color);\n",
              "    border-color: transparent;\n",
              "    border-bottom-color: var(--fill-color);\n",
              "    animation:\n",
              "      spin 1s steps(1) infinite;\n",
              "  }\n",
              "\n",
              "  @keyframes spin {\n",
              "    0% {\n",
              "      border-color: transparent;\n",
              "      border-bottom-color: var(--fill-color);\n",
              "      border-left-color: var(--fill-color);\n",
              "    }\n",
              "    20% {\n",
              "      border-color: transparent;\n",
              "      border-left-color: var(--fill-color);\n",
              "      border-top-color: var(--fill-color);\n",
              "    }\n",
              "    30% {\n",
              "      border-color: transparent;\n",
              "      border-left-color: var(--fill-color);\n",
              "      border-top-color: var(--fill-color);\n",
              "      border-right-color: var(--fill-color);\n",
              "    }\n",
              "    40% {\n",
              "      border-color: transparent;\n",
              "      border-right-color: var(--fill-color);\n",
              "      border-top-color: var(--fill-color);\n",
              "    }\n",
              "    60% {\n",
              "      border-color: transparent;\n",
              "      border-right-color: var(--fill-color);\n",
              "    }\n",
              "    80% {\n",
              "      border-color: transparent;\n",
              "      border-right-color: var(--fill-color);\n",
              "      border-bottom-color: var(--fill-color);\n",
              "    }\n",
              "    90% {\n",
              "      border-color: transparent;\n",
              "      border-bottom-color: var(--fill-color);\n",
              "    }\n",
              "  }\n",
              "</style>\n",
              "\n",
              "  <script>\n",
              "    async function quickchart(key) {\n",
              "      const quickchartButtonEl =\n",
              "        document.querySelector('#' + key + ' button');\n",
              "      quickchartButtonEl.disabled = true;  // To prevent multiple clicks.\n",
              "      quickchartButtonEl.classList.add('colab-df-spinner');\n",
              "      try {\n",
              "        const charts = await google.colab.kernel.invokeFunction(\n",
              "            'suggestCharts', [key], {});\n",
              "      } catch (error) {\n",
              "        console.error('Error during call to suggestCharts:', error);\n",
              "      }\n",
              "      quickchartButtonEl.classList.remove('colab-df-spinner');\n",
              "      quickchartButtonEl.classList.add('colab-df-quickchart-complete');\n",
              "    }\n",
              "    (() => {\n",
              "      let quickchartButtonEl =\n",
              "        document.querySelector('#df-f70476a3-74de-4e99-a692-5774919bc17c button');\n",
              "      quickchartButtonEl.style.display =\n",
              "        google.colab.kernel.accessAllowed ? 'block' : 'none';\n",
              "    })();\n",
              "  </script>\n",
              "</div>\n",
              "    </div>\n",
              "  </div>\n"
            ]
          },
          "metadata": {},
          "execution_count": 6
        }
      ]
    },
    {
      "cell_type": "code",
      "source": [
        "# Visualizacion del shape del DF\n",
        "df.shape"
      ],
      "metadata": {
        "colab": {
          "base_uri": "https://localhost:8080/"
        },
        "id": "twjkDerQAEHy",
        "outputId": "37830cec-2d4f-450d-e861-315a622ddcd8"
      },
      "execution_count": 7,
      "outputs": [
        {
          "output_type": "execute_result",
          "data": {
            "text/plain": [
              "(28276, 5)"
            ]
          },
          "metadata": {},
          "execution_count": 7
        }
      ]
    },
    {
      "cell_type": "code",
      "source": [
        "# Tipos de datos\n",
        "df.info()"
      ],
      "metadata": {
        "colab": {
          "base_uri": "https://localhost:8080/"
        },
        "id": "HRGR4knsAR6j",
        "outputId": "49af3a2a-2812-4293-e451-17fba7c1295c"
      },
      "execution_count": 8,
      "outputs": [
        {
          "output_type": "stream",
          "name": "stdout",
          "text": [
            "<class 'pandas.core.frame.DataFrame'>\n",
            "RangeIndex: 28276 entries, 0 to 28275\n",
            "Data columns (total 5 columns):\n",
            " #   Column            Non-Null Count  Dtype \n",
            "---  ------            --------------  ----- \n",
            " 0   fecha_noticia     28276 non-null  object\n",
            " 1   titulo_noticia    28276 non-null  object\n",
            " 2   texto_noticia     28276 non-null  object\n",
            " 3   longitud_noticia  28276 non-null  int64 \n",
            " 4   categoria         28276 non-null  object\n",
            "dtypes: int64(1), object(4)\n",
            "memory usage: 1.1+ MB\n"
          ]
        }
      ]
    },
    {
      "cell_type": "markdown",
      "source": [
        "Hay 5 variables en el conjunto de datos, donde 4 son del tipo categorica y una del tipo entero.\n",
        "•La variable categoria categoria es el objetivo del análisis."
      ],
      "metadata": {
        "id": "8RvPaAadAXkU"
      }
    },
    {
      "cell_type": "code",
      "source": [
        "# Vereificamos valores missings\n",
        "df.isnull().sum()"
      ],
      "metadata": {
        "colab": {
          "base_uri": "https://localhost:8080/"
        },
        "id": "5JQeoFYuAxZZ",
        "outputId": "bdf1da38-6899-440c-9107-35f10561e46c"
      },
      "execution_count": 9,
      "outputs": [
        {
          "output_type": "execute_result",
          "data": {
            "text/plain": [
              "fecha_noticia       0\n",
              "titulo_noticia      0\n",
              "texto_noticia       0\n",
              "longitud_noticia    0\n",
              "categoria           0\n",
              "dtype: int64"
            ]
          },
          "metadata": {},
          "execution_count": 9
        }
      ]
    },
    {
      "cell_type": "markdown",
      "source": [
        "Data pre-processing\n",
        "Drop duplicates\n",
        "Se saca los datos duplicados en el dataset"
      ],
      "metadata": {
        "id": "MX2jAN5YA4E8"
      }
    },
    {
      "cell_type": "code",
      "source": [
        "df.drop_duplicates()"
      ],
      "metadata": {
        "colab": {
          "base_uri": "https://localhost:8080/",
          "height": 424
        },
        "id": "DhmeuFaAA6Ec",
        "outputId": "580c80a0-8053-4a8b-ba31-2588cf3965fe"
      },
      "execution_count": 10,
      "outputs": [
        {
          "output_type": "execute_result",
          "data": {
            "text/plain": [
              "              fecha_noticia  \\\n",
              "0      2023-05-03T12:00:00Z   \n",
              "1       2023-09-01 13:16:41   \n",
              "2       Fecha no encontrada   \n",
              "3       Fecha no encontrada   \n",
              "4       Fecha no encontrada   \n",
              "...                     ...   \n",
              "28271            2023-01-29   \n",
              "28272            2023-03-28   \n",
              "28273            2023-03-17   \n",
              "28274            2023-03-21   \n",
              "28275            2023-04-02   \n",
              "\n",
              "                                          titulo_noticia  \\\n",
              "0      El debate de la ética de la IA no es tecnológi...   \n",
              "1                               Presidencia de la Nación   \n",
              "2      Investigadores identifican 574 especies exótic...   \n",
              "3      Datos de una antigua misión permiten mapear el...   \n",
              "4      Dos llamativas nuevas plantas carnívoras descr...   \n",
              "...                                                  ...   \n",
              "28271  El doctor que comió heces de sus pacientes, ha...   \n",
              "28272  \"Tuve covid hace tres años y aún no puedo hace...   \n",
              "28273  Los médicos que dan falsas esperanzas a pacien...   \n",
              "28274  Síndrome de Down: \"El problema no es el niño (...   \n",
              "28275  3 consejos para que los lunes no se sientan ta...   \n",
              "\n",
              "                                           texto_noticia  longitud_noticia  \\\n",
              "0      Facebook\\nTwitter\\nImprimir\\nCorreo electrónic...             16533   \n",
              "1      Hasta el 22 de septiembre las instituciones po...              3079   \n",
              "2      Menú Abonados ALICANTE, 27 Jun. (EUROPA PRESS)...              3389   \n",
              "3      Menú Abonados Datos adquiridos durante la pasa...              3731   \n",
              "4      Menú Abonados Dos nuevas especies de plantas c...              4378   \n",
              "...                                                  ...               ...   \n",
              "28271  Joseph Goldberger (1874-1929), médico y epidem...             10362   \n",
              "28272  Lucy Adams todavía sufre de vértigo, dolor de ...             10458   \n",
              "28273  Más de dos millones de personas en el mundo ti...              9700   \n",
              "28274  Otis cumple 2 años esta semana. La fecha de na...              8844   \n",
              "28275  ¡Uff... lunes! Si odias los lunes, puedes esta...              6546   \n",
              "\n",
              "                categoria  \n",
              "0      ciencia_tecnologia  \n",
              "1      ciencia_tecnologia  \n",
              "2      ciencia_tecnologia  \n",
              "3      ciencia_tecnologia  \n",
              "4      ciencia_tecnologia  \n",
              "...                   ...  \n",
              "28271               salud  \n",
              "28272               salud  \n",
              "28273               salud  \n",
              "28274               salud  \n",
              "28275               salud  \n",
              "\n",
              "[28276 rows x 5 columns]"
            ],
            "text/html": [
              "\n",
              "  <div id=\"df-12b7566f-4b31-414b-8d76-20a91247cb66\" class=\"colab-df-container\">\n",
              "    <div>\n",
              "<style scoped>\n",
              "    .dataframe tbody tr th:only-of-type {\n",
              "        vertical-align: middle;\n",
              "    }\n",
              "\n",
              "    .dataframe tbody tr th {\n",
              "        vertical-align: top;\n",
              "    }\n",
              "\n",
              "    .dataframe thead th {\n",
              "        text-align: right;\n",
              "    }\n",
              "</style>\n",
              "<table border=\"1\" class=\"dataframe\">\n",
              "  <thead>\n",
              "    <tr style=\"text-align: right;\">\n",
              "      <th></th>\n",
              "      <th>fecha_noticia</th>\n",
              "      <th>titulo_noticia</th>\n",
              "      <th>texto_noticia</th>\n",
              "      <th>longitud_noticia</th>\n",
              "      <th>categoria</th>\n",
              "    </tr>\n",
              "  </thead>\n",
              "  <tbody>\n",
              "    <tr>\n",
              "      <th>0</th>\n",
              "      <td>2023-05-03T12:00:00Z</td>\n",
              "      <td>El debate de la ética de la IA no es tecnológi...</td>\n",
              "      <td>Facebook\\nTwitter\\nImprimir\\nCorreo electrónic...</td>\n",
              "      <td>16533</td>\n",
              "      <td>ciencia_tecnologia</td>\n",
              "    </tr>\n",
              "    <tr>\n",
              "      <th>1</th>\n",
              "      <td>2023-09-01 13:16:41</td>\n",
              "      <td>Presidencia de la Nación</td>\n",
              "      <td>Hasta el 22 de septiembre las instituciones po...</td>\n",
              "      <td>3079</td>\n",
              "      <td>ciencia_tecnologia</td>\n",
              "    </tr>\n",
              "    <tr>\n",
              "      <th>2</th>\n",
              "      <td>Fecha no encontrada</td>\n",
              "      <td>Investigadores identifican 574 especies exótic...</td>\n",
              "      <td>Menú Abonados ALICANTE, 27 Jun. (EUROPA PRESS)...</td>\n",
              "      <td>3389</td>\n",
              "      <td>ciencia_tecnologia</td>\n",
              "    </tr>\n",
              "    <tr>\n",
              "      <th>3</th>\n",
              "      <td>Fecha no encontrada</td>\n",
              "      <td>Datos de una antigua misión permiten mapear el...</td>\n",
              "      <td>Menú Abonados Datos adquiridos durante la pasa...</td>\n",
              "      <td>3731</td>\n",
              "      <td>ciencia_tecnologia</td>\n",
              "    </tr>\n",
              "    <tr>\n",
              "      <th>4</th>\n",
              "      <td>Fecha no encontrada</td>\n",
              "      <td>Dos llamativas nuevas plantas carnívoras descr...</td>\n",
              "      <td>Menú Abonados Dos nuevas especies de plantas c...</td>\n",
              "      <td>4378</td>\n",
              "      <td>ciencia_tecnologia</td>\n",
              "    </tr>\n",
              "    <tr>\n",
              "      <th>...</th>\n",
              "      <td>...</td>\n",
              "      <td>...</td>\n",
              "      <td>...</td>\n",
              "      <td>...</td>\n",
              "      <td>...</td>\n",
              "    </tr>\n",
              "    <tr>\n",
              "      <th>28271</th>\n",
              "      <td>2023-01-29</td>\n",
              "      <td>El doctor que comió heces de sus pacientes, ha...</td>\n",
              "      <td>Joseph Goldberger (1874-1929), médico y epidem...</td>\n",
              "      <td>10362</td>\n",
              "      <td>salud</td>\n",
              "    </tr>\n",
              "    <tr>\n",
              "      <th>28272</th>\n",
              "      <td>2023-03-28</td>\n",
              "      <td>\"Tuve covid hace tres años y aún no puedo hace...</td>\n",
              "      <td>Lucy Adams todavía sufre de vértigo, dolor de ...</td>\n",
              "      <td>10458</td>\n",
              "      <td>salud</td>\n",
              "    </tr>\n",
              "    <tr>\n",
              "      <th>28273</th>\n",
              "      <td>2023-03-17</td>\n",
              "      <td>Los médicos que dan falsas esperanzas a pacien...</td>\n",
              "      <td>Más de dos millones de personas en el mundo ti...</td>\n",
              "      <td>9700</td>\n",
              "      <td>salud</td>\n",
              "    </tr>\n",
              "    <tr>\n",
              "      <th>28274</th>\n",
              "      <td>2023-03-21</td>\n",
              "      <td>Síndrome de Down: \"El problema no es el niño (...</td>\n",
              "      <td>Otis cumple 2 años esta semana. La fecha de na...</td>\n",
              "      <td>8844</td>\n",
              "      <td>salud</td>\n",
              "    </tr>\n",
              "    <tr>\n",
              "      <th>28275</th>\n",
              "      <td>2023-04-02</td>\n",
              "      <td>3 consejos para que los lunes no se sientan ta...</td>\n",
              "      <td>¡Uff... lunes! Si odias los lunes, puedes esta...</td>\n",
              "      <td>6546</td>\n",
              "      <td>salud</td>\n",
              "    </tr>\n",
              "  </tbody>\n",
              "</table>\n",
              "<p>28276 rows × 5 columns</p>\n",
              "</div>\n",
              "    <div class=\"colab-df-buttons\">\n",
              "\n",
              "  <div class=\"colab-df-container\">\n",
              "    <button class=\"colab-df-convert\" onclick=\"convertToInteractive('df-12b7566f-4b31-414b-8d76-20a91247cb66')\"\n",
              "            title=\"Convert this dataframe to an interactive table.\"\n",
              "            style=\"display:none;\">\n",
              "\n",
              "  <svg xmlns=\"http://www.w3.org/2000/svg\" height=\"24px\" viewBox=\"0 -960 960 960\">\n",
              "    <path d=\"M120-120v-720h720v720H120Zm60-500h600v-160H180v160Zm220 220h160v-160H400v160Zm0 220h160v-160H400v160ZM180-400h160v-160H180v160Zm440 0h160v-160H620v160ZM180-180h160v-160H180v160Zm440 0h160v-160H620v160Z\"/>\n",
              "  </svg>\n",
              "    </button>\n",
              "\n",
              "  <style>\n",
              "    .colab-df-container {\n",
              "      display:flex;\n",
              "      gap: 12px;\n",
              "    }\n",
              "\n",
              "    .colab-df-convert {\n",
              "      background-color: #E8F0FE;\n",
              "      border: none;\n",
              "      border-radius: 50%;\n",
              "      cursor: pointer;\n",
              "      display: none;\n",
              "      fill: #1967D2;\n",
              "      height: 32px;\n",
              "      padding: 0 0 0 0;\n",
              "      width: 32px;\n",
              "    }\n",
              "\n",
              "    .colab-df-convert:hover {\n",
              "      background-color: #E2EBFA;\n",
              "      box-shadow: 0px 1px 2px rgba(60, 64, 67, 0.3), 0px 1px 3px 1px rgba(60, 64, 67, 0.15);\n",
              "      fill: #174EA6;\n",
              "    }\n",
              "\n",
              "    .colab-df-buttons div {\n",
              "      margin-bottom: 4px;\n",
              "    }\n",
              "\n",
              "    [theme=dark] .colab-df-convert {\n",
              "      background-color: #3B4455;\n",
              "      fill: #D2E3FC;\n",
              "    }\n",
              "\n",
              "    [theme=dark] .colab-df-convert:hover {\n",
              "      background-color: #434B5C;\n",
              "      box-shadow: 0px 1px 3px 1px rgba(0, 0, 0, 0.15);\n",
              "      filter: drop-shadow(0px 1px 2px rgba(0, 0, 0, 0.3));\n",
              "      fill: #FFFFFF;\n",
              "    }\n",
              "  </style>\n",
              "\n",
              "    <script>\n",
              "      const buttonEl =\n",
              "        document.querySelector('#df-12b7566f-4b31-414b-8d76-20a91247cb66 button.colab-df-convert');\n",
              "      buttonEl.style.display =\n",
              "        google.colab.kernel.accessAllowed ? 'block' : 'none';\n",
              "\n",
              "      async function convertToInteractive(key) {\n",
              "        const element = document.querySelector('#df-12b7566f-4b31-414b-8d76-20a91247cb66');\n",
              "        const dataTable =\n",
              "          await google.colab.kernel.invokeFunction('convertToInteractive',\n",
              "                                                    [key], {});\n",
              "        if (!dataTable) return;\n",
              "\n",
              "        const docLinkHtml = 'Like what you see? Visit the ' +\n",
              "          '<a target=\"_blank\" href=https://colab.research.google.com/notebooks/data_table.ipynb>data table notebook</a>'\n",
              "          + ' to learn more about interactive tables.';\n",
              "        element.innerHTML = '';\n",
              "        dataTable['output_type'] = 'display_data';\n",
              "        await google.colab.output.renderOutput(dataTable, element);\n",
              "        const docLink = document.createElement('div');\n",
              "        docLink.innerHTML = docLinkHtml;\n",
              "        element.appendChild(docLink);\n",
              "      }\n",
              "    </script>\n",
              "  </div>\n",
              "\n",
              "\n",
              "<div id=\"df-0d37f334-4785-4edb-9e78-59320b5c5ab5\">\n",
              "  <button class=\"colab-df-quickchart\" onclick=\"quickchart('df-0d37f334-4785-4edb-9e78-59320b5c5ab5')\"\n",
              "            title=\"Suggest charts\"\n",
              "            style=\"display:none;\">\n",
              "\n",
              "<svg xmlns=\"http://www.w3.org/2000/svg\" height=\"24px\"viewBox=\"0 0 24 24\"\n",
              "     width=\"24px\">\n",
              "    <g>\n",
              "        <path d=\"M19 3H5c-1.1 0-2 .9-2 2v14c0 1.1.9 2 2 2h14c1.1 0 2-.9 2-2V5c0-1.1-.9-2-2-2zM9 17H7v-7h2v7zm4 0h-2V7h2v10zm4 0h-2v-4h2v4z\"/>\n",
              "    </g>\n",
              "</svg>\n",
              "  </button>\n",
              "\n",
              "<style>\n",
              "  .colab-df-quickchart {\n",
              "      --bg-color: #E8F0FE;\n",
              "      --fill-color: #1967D2;\n",
              "      --hover-bg-color: #E2EBFA;\n",
              "      --hover-fill-color: #174EA6;\n",
              "      --disabled-fill-color: #AAA;\n",
              "      --disabled-bg-color: #DDD;\n",
              "  }\n",
              "\n",
              "  [theme=dark] .colab-df-quickchart {\n",
              "      --bg-color: #3B4455;\n",
              "      --fill-color: #D2E3FC;\n",
              "      --hover-bg-color: #434B5C;\n",
              "      --hover-fill-color: #FFFFFF;\n",
              "      --disabled-bg-color: #3B4455;\n",
              "      --disabled-fill-color: #666;\n",
              "  }\n",
              "\n",
              "  .colab-df-quickchart {\n",
              "    background-color: var(--bg-color);\n",
              "    border: none;\n",
              "    border-radius: 50%;\n",
              "    cursor: pointer;\n",
              "    display: none;\n",
              "    fill: var(--fill-color);\n",
              "    height: 32px;\n",
              "    padding: 0;\n",
              "    width: 32px;\n",
              "  }\n",
              "\n",
              "  .colab-df-quickchart:hover {\n",
              "    background-color: var(--hover-bg-color);\n",
              "    box-shadow: 0 1px 2px rgba(60, 64, 67, 0.3), 0 1px 3px 1px rgba(60, 64, 67, 0.15);\n",
              "    fill: var(--button-hover-fill-color);\n",
              "  }\n",
              "\n",
              "  .colab-df-quickchart-complete:disabled,\n",
              "  .colab-df-quickchart-complete:disabled:hover {\n",
              "    background-color: var(--disabled-bg-color);\n",
              "    fill: var(--disabled-fill-color);\n",
              "    box-shadow: none;\n",
              "  }\n",
              "\n",
              "  .colab-df-spinner {\n",
              "    border: 2px solid var(--fill-color);\n",
              "    border-color: transparent;\n",
              "    border-bottom-color: var(--fill-color);\n",
              "    animation:\n",
              "      spin 1s steps(1) infinite;\n",
              "  }\n",
              "\n",
              "  @keyframes spin {\n",
              "    0% {\n",
              "      border-color: transparent;\n",
              "      border-bottom-color: var(--fill-color);\n",
              "      border-left-color: var(--fill-color);\n",
              "    }\n",
              "    20% {\n",
              "      border-color: transparent;\n",
              "      border-left-color: var(--fill-color);\n",
              "      border-top-color: var(--fill-color);\n",
              "    }\n",
              "    30% {\n",
              "      border-color: transparent;\n",
              "      border-left-color: var(--fill-color);\n",
              "      border-top-color: var(--fill-color);\n",
              "      border-right-color: var(--fill-color);\n",
              "    }\n",
              "    40% {\n",
              "      border-color: transparent;\n",
              "      border-right-color: var(--fill-color);\n",
              "      border-top-color: var(--fill-color);\n",
              "    }\n",
              "    60% {\n",
              "      border-color: transparent;\n",
              "      border-right-color: var(--fill-color);\n",
              "    }\n",
              "    80% {\n",
              "      border-color: transparent;\n",
              "      border-right-color: var(--fill-color);\n",
              "      border-bottom-color: var(--fill-color);\n",
              "    }\n",
              "    90% {\n",
              "      border-color: transparent;\n",
              "      border-bottom-color: var(--fill-color);\n",
              "    }\n",
              "  }\n",
              "</style>\n",
              "\n",
              "  <script>\n",
              "    async function quickchart(key) {\n",
              "      const quickchartButtonEl =\n",
              "        document.querySelector('#' + key + ' button');\n",
              "      quickchartButtonEl.disabled = true;  // To prevent multiple clicks.\n",
              "      quickchartButtonEl.classList.add('colab-df-spinner');\n",
              "      try {\n",
              "        const charts = await google.colab.kernel.invokeFunction(\n",
              "            'suggestCharts', [key], {});\n",
              "      } catch (error) {\n",
              "        console.error('Error during call to suggestCharts:', error);\n",
              "      }\n",
              "      quickchartButtonEl.classList.remove('colab-df-spinner');\n",
              "      quickchartButtonEl.classList.add('colab-df-quickchart-complete');\n",
              "    }\n",
              "    (() => {\n",
              "      let quickchartButtonEl =\n",
              "        document.querySelector('#df-0d37f334-4785-4edb-9e78-59320b5c5ab5 button');\n",
              "      quickchartButtonEl.style.display =\n",
              "        google.colab.kernel.accessAllowed ? 'block' : 'none';\n",
              "    })();\n",
              "  </script>\n",
              "</div>\n",
              "    </div>\n",
              "  </div>\n"
            ]
          },
          "metadata": {},
          "execution_count": 10
        }
      ]
    },
    {
      "cell_type": "markdown",
      "source": [
        "Distribución de frecuencia y proprocion de las variables"
      ],
      "metadata": {
        "id": "4wUSezGFBSFA"
      }
    },
    {
      "cell_type": "code",
      "source": [
        "# Funcion conteo y proporcion de datos\n",
        "def dist(df,target):\n",
        "    count= df[target].value_counts(normalize=False)\n",
        "    prop = df[target].value_counts(normalize=True)\n",
        "\n",
        "    dist = pd.DataFrame({'Freq[N]':count,'Prop[%]':prop.round(3)})\n",
        "    return dist"
      ],
      "metadata": {
        "id": "MbjCPKVcBO7W"
      },
      "execution_count": 11,
      "outputs": []
    },
    {
      "cell_type": "code",
      "source": [
        "# Ver el conteo y la proporción de Class\n",
        "for i in columns_names:\n",
        "    print(' '*4,i.upper())\n",
        "    print(dist(df,i))\n",
        "    print(\"*\"*300)"
      ],
      "metadata": {
        "colab": {
          "base_uri": "https://localhost:8080/"
        },
        "id": "I0QdwOpZBXnn",
        "outputId": "a3834dfc-5167-4388-d875-dadb00c201e1"
      },
      "execution_count": 12,
      "outputs": [
        {
          "output_type": "stream",
          "name": "stdout",
          "text": [
            "     FECHA_NOTICIA\n",
            "                               Freq[N]  Prop[%]\n",
            "Fecha no encontrada               7805    0.276\n",
            "Martes, 24 de Octubre de 2023       87    0.003\n",
            "16 de octubre de 2023               16    0.001\n",
            "15 de octubre de 2023               13    0.000\n",
            "2023-01-31                          13    0.000\n",
            "...                                ...      ...\n",
            "2016-02-11T03:00:00.000Z             1    0.000\n",
            "2016-08-10T03:00:00.000Z             1    0.000\n",
            "2017-06-06T03:00:00.000Z             1    0.000\n",
            "2016-02-14T03:00:00.000Z             1    0.000\n",
            "2018-04-30                           1    0.000\n",
            "\n",
            "[16823 rows x 2 columns]\n",
            "************************************************************************************************************************************************************************************************************************************************************************************************************\n",
            "     TITULO_NOTICIA\n",
            "                                                    Freq[N]  Prop[%]\n",
            "Mi Cuenta                                               467    0.017\n",
            "Elecciones 2023: fechas, candidatos, encuestas,...       58    0.002\n",
            "Una fuga de gas provoca un incendio en Ciudad U...       50    0.002\n",
            "Elecciones 2023, en vivo: fechas, candidatos, e...       34    0.001\n",
            "Jornada de 37,5 horas, guarderías gratis... Tod...       24    0.001\n",
            "...                                                     ...      ...\n",
            "Palpalá participa del Congreso Federal de la \"E...        1    0.000\n",
            "Carmen Barbieri explotó furiosa contra Yanina L...        1    0.000\n",
            "Un experto en comunicación no verbal analizó lo...        1    0.000\n",
            "Las publicaciones de Sofía Clerici que indicarí...        1    0.000\n",
            "3 consejos para que los lunes no se sientan tan...        1    0.000\n",
            "\n",
            "[27312 rows x 2 columns]\n",
            "************************************************************************************************************************************************************************************************************************************************************************************************************\n",
            "     TEXTO_NOTICIA\n",
            "                                                    Freq[N]  Prop[%]\n",
            "/ NoticiasInformación basada en hechos y verifi...       14      0.0\n",
            "/ NoticiasInformación basada en hechos y verifi...       12      0.0\n",
            "/ NoticiasInformación basada en hechos y verifi...        9      0.0\n",
            "/ NoticiasInformación basada en hechos y verifi...        8      0.0\n",
            "/ NoticiasInformación basada en hechos y verifi...        7      0.0\n",
            "...                                                     ...      ...\n",
            " Este miércoles los docentes que esperan ser de...        1      0.0\n",
            " Este martes, diputados del Bloque Justicialist...        1      0.0\n",
            " Este martes hubo medidas de fuerza del sector ...        1      0.0\n",
            " Estas  Primeras Jornadas, son organizadas por ...        1      0.0\n",
            "¡Uff... lunes! Si odias los lunes, puedes estar...        1      0.0\n",
            "\n",
            "[28047 rows x 2 columns]\n",
            "************************************************************************************************************************************************************************************************************************************************************************************************************\n",
            "     LONGITUD_NOTICIA\n",
            "       Freq[N]  Prop[%]\n",
            "904         28    0.001\n",
            "907         27    0.001\n",
            "906         24    0.001\n",
            "905         24    0.001\n",
            "900         23    0.001\n",
            "...        ...      ...\n",
            "4395         1    0.000\n",
            "5616         1    0.000\n",
            "13666        1    0.000\n",
            "7648         1    0.000\n",
            "10458        1    0.000\n",
            "\n",
            "[8473 rows x 2 columns]\n",
            "************************************************************************************************************************************************************************************************************************************************************************************************************\n",
            "     CATEGORIA\n",
            "                    Freq[N]  Prop[%]\n",
            "educacion              3220    0.114\n",
            "horoscopo              3184    0.113\n",
            "entretenimiento        3143    0.111\n",
            "medioambiente          3115    0.110\n",
            "ciencia_tecnologia     3079    0.109\n",
            "politica               3031    0.107\n",
            "cultura                2990    0.106\n",
            "deportes               2484    0.088\n",
            "salud                  2430    0.086\n",
            "economia               1600    0.057\n",
            "************************************************************************************************************************************************************************************************************************************************************************************************************\n"
          ]
        }
      ]
    },
    {
      "cell_type": "markdown",
      "source": [
        "Análisis exploratorio de datos"
      ],
      "metadata": {
        "id": "Asdp0IvQDSqb"
      }
    },
    {
      "cell_type": "code",
      "source": [
        "import matplotlib.pyplot as plt\n",
        "import seaborn as sns\n",
        "\n",
        "# Asumiendo que df_car es tu DataFrame con los datos\n",
        "# y 'Class' es la columna categórica que deseas explorar\n",
        "\n",
        "# Graficamos la variable 'Class' separada por la primera columna en tu conjunto de datos\n",
        "fig, ax = plt.subplots(figsize=(16, 6))\n",
        "sns.countplot(data=df, x='categoria', ax=ax)\n",
        "ax.set_title(\"Evaluation Classes\")\n",
        "plt.show()\n"
      ],
      "metadata": {
        "colab": {
          "base_uri": "https://localhost:8080/",
          "height": 536
        },
        "id": "x5f0sd6ZUiGp",
        "outputId": "954cd76a-5385-41bb-c196-b71c6eefe0bb"
      },
      "execution_count": 13,
      "outputs": [
        {
          "output_type": "display_data",
          "data": {
            "text/plain": [
              "<Figure size 1600x600 with 1 Axes>"
            ],
            "image/png": "[encoded data removed]"
          },
          "metadata": {}
        }
      ]
    },
    {
      "cell_type": "code",
      "source": [
        "print(df.columns)\n",
        "print(df['categoria'].dtype)\n"
      ],
      "metadata": {
        "colab": {
          "base_uri": "https://localhost:8080/"
        },
        "id": "ssbyz9KnY8cU",
        "outputId": "48397a56-1c46-4133-92d8-fe5fe1b24e83"
      },
      "execution_count": 14,
      "outputs": [
        {
          "output_type": "stream",
          "name": "stdout",
          "text": [
            "Index(['fecha_noticia', 'titulo_noticia', 'texto_noticia', 'longitud_noticia',\n",
            "       'categoria'],\n",
            "      dtype='object')\n",
            "object\n"
          ]
        }
      ]
    },
    {
      "cell_type": "markdown",
      "source": [
        "INGENIERIA DE CARACTERISTICAS\n"
      ],
      "metadata": {
        "id": "bIhzOLuNLIWf"
      }
    },
    {
      "cell_type": "markdown",
      "source": [
        "Submuestreo"
      ],
      "metadata": {
        "id": "HlKsSL1lLNTA"
      }
    },
    {
      "cell_type": "code",
      "source": [
        "from imblearn.under_sampling import RandomUnderSampler\n",
        "undersample = RandomUnderSampler(random_state=42)"
      ],
      "metadata": {
        "id": "_0ntRQg5LK9V"
      },
      "execution_count": 15,
      "outputs": []
    },
    {
      "cell_type": "markdown",
      "source": [
        "Declarando variables predictoras y variable objetivo"
      ],
      "metadata": {
        "id": "h7leqHTPLgWV"
      }
    },
    {
      "cell_type": "code",
      "source": [
        "# Separamos datos por X e Y\n",
        "X_ = df.drop('categoria',axis=1)\n",
        "y_ = df.categoria"
      ],
      "metadata": {
        "id": "vI5pFoV2LiZI"
      },
      "execution_count": 16,
      "outputs": []
    },
    {
      "cell_type": "code",
      "source": [
        "!pip install category_encoders"
      ],
      "metadata": {
        "colab": {
          "base_uri": "https://localhost:8080/"
        },
        "id": "YU413ZLea-D8",
        "outputId": "64c57bda-1597-4dca-ed09-3ecdbfb33e98"
      },
      "execution_count": 17,
      "outputs": [
        {
          "output_type": "stream",
          "name": "stdout",
          "text": [
            "Collecting category_encoders\n",
            "  Downloading category_encoders-2.6.3-py2.py3-none-any.whl (81 kB)\n",
            "\u001b[?25l     \u001b[90m━━━━━━━━━━━━━━━━━━━━━━━━━━━━━━━━━━━━━━━━\u001b[0m \u001b[32m0.0/81.9 kB\u001b[0m \u001b[31m?\u001b[0m eta \u001b[36m-:--:--\u001b[0m\r\u001b[2K     \u001b[91m━━━━━━━━━━━━━━━━━━━━━━━━━━━━━━━━━━━\u001b[0m\u001b[90m╺\u001b[0m\u001b[90m━━━━\u001b[0m \u001b[32m71.7/81.9 kB\u001b[0m \u001b[31m2.2 MB/s\u001b[0m eta \u001b[36m0:00:01\u001b[0m\r\u001b[2K     \u001b[90m━━━━━━━━━━━━━━━━━━━━━━━━━━━━━━━━━━━━━━━━\u001b[0m \u001b[32m81.9/81.9 kB\u001b[0m \u001b[31m2.1 MB/s\u001b[0m eta \u001b[36m0:00:00\u001b[0m\n",
            "\u001b[?25hRequirement already satisfied: numpy>=1.14.0 in /usr/local/lib/python3.10/dist-packages (from category_encoders) (1.23.5)\n",
            "Requirement already satisfied: scikit-learn>=0.20.0 in /usr/local/lib/python3.10/dist-packages (from category_encoders) (1.2.2)\n",
            "Requirement already satisfied: scipy>=1.0.0 in /usr/local/lib/python3.10/dist-packages (from category_encoders) (1.11.3)\n",
            "Requirement already satisfied: statsmodels>=0.9.0 in /usr/local/lib/python3.10/dist-packages (from category_encoders) (0.14.0)\n",
            "Requirement already satisfied: pandas>=1.0.5 in /usr/local/lib/python3.10/dist-packages (from category_encoders) (1.5.3)\n",
            "Requirement already satisfied: patsy>=0.5.1 in /usr/local/lib/python3.10/dist-packages (from category_encoders) (0.5.3)\n",
            "Requirement already satisfied: python-dateutil>=2.8.1 in /usr/local/lib/python3.10/dist-packages (from pandas>=1.0.5->category_encoders) (2.8.2)\n",
            "Requirement already satisfied: pytz>=2020.1 in /usr/local/lib/python3.10/dist-packages (from pandas>=1.0.5->category_encoders) (2023.3.post1)\n",
            "Requirement already satisfied: six in /usr/local/lib/python3.10/dist-packages (from patsy>=0.5.1->category_encoders) (1.16.0)\n",
            "Requirement already satisfied: joblib>=1.1.1 in /usr/local/lib/python3.10/dist-packages (from scikit-learn>=0.20.0->category_encoders) (1.3.2)\n",
            "Requirement already satisfied: threadpoolctl>=2.0.0 in /usr/local/lib/python3.10/dist-packages (from scikit-learn>=0.20.0->category_encoders) (3.2.0)\n",
            "Requirement already satisfied: packaging>=21.3 in /usr/local/lib/python3.10/dist-packages (from statsmodels>=0.9.0->category_encoders) (23.2)\n",
            "Installing collected packages: category_encoders\n",
            "Successfully installed category_encoders-2.6.3\n"
          ]
        }
      ]
    },
    {
      "cell_type": "code",
      "source": [
        "#!pip install category_encoders\n",
        "import category_encoders as ce\n",
        "\n",
        "encoder = ce.OrdinalEncoder(cols=columns_names[:-1])\n",
        "\n",
        "X_ = encoder.fit_transform(X_)"
      ],
      "metadata": {
        "id": "Pa0vU_Vjav0N"
      },
      "execution_count": 18,
      "outputs": []
    },
    {
      "cell_type": "code",
      "source": [
        "X_.head()"
      ],
      "metadata": {
        "colab": {
          "base_uri": "https://localhost:8080/",
          "height": 206
        },
        "id": "dk89kHAFbL7w",
        "outputId": "758e4133-1520-4c90-c183-e4d9251c203c"
      },
      "execution_count": 19,
      "outputs": [
        {
          "output_type": "execute_result",
          "data": {
            "text/plain": [
              "   fecha_noticia  titulo_noticia  texto_noticia  longitud_noticia\n",
              "0              1               1              1                 1\n",
              "1              2               2              2                 2\n",
              "2              3               3              3                 3\n",
              "3              3               4              4                 4\n",
              "4              3               5              5                 5"
            ],
            "text/html": [
              "\n",
              "  <div id=\"df-adc0d886-3ecf-4854-aa43-3b58b537900b\" class=\"colab-df-container\">\n",
              "    <div>\n",
              "<style scoped>\n",
              "    .dataframe tbody tr th:only-of-type {\n",
              "        vertical-align: middle;\n",
              "    }\n",
              "\n",
              "    .dataframe tbody tr th {\n",
              "        vertical-align: top;\n",
              "    }\n",
              "\n",
              "    .dataframe thead th {\n",
              "        text-align: right;\n",
              "    }\n",
              "</style>\n",
              "<table border=\"1\" class=\"dataframe\">\n",
              "  <thead>\n",
              "    <tr style=\"text-align: right;\">\n",
              "      <th></th>\n",
              "      <th>fecha_noticia</th>\n",
              "      <th>titulo_noticia</th>\n",
              "      <th>texto_noticia</th>\n",
              "      <th>longitud_noticia</th>\n",
              "    </tr>\n",
              "  </thead>\n",
              "  <tbody>\n",
              "    <tr>\n",
              "      <th>0</th>\n",
              "      <td>1</td>\n",
              "      <td>1</td>\n",
              "      <td>1</td>\n",
              "      <td>1</td>\n",
              "    </tr>\n",
              "    <tr>\n",
              "      <th>1</th>\n",
              "      <td>2</td>\n",
              "      <td>2</td>\n",
              "      <td>2</td>\n",
              "      <td>2</td>\n",
              "    </tr>\n",
              "    <tr>\n",
              "      <th>2</th>\n",
              "      <td>3</td>\n",
              "      <td>3</td>\n",
              "      <td>3</td>\n",
              "      <td>3</td>\n",
              "    </tr>\n",
              "    <tr>\n",
              "      <th>3</th>\n",
              "      <td>3</td>\n",
              "      <td>4</td>\n",
              "      <td>4</td>\n",
              "      <td>4</td>\n",
              "    </tr>\n",
              "    <tr>\n",
              "      <th>4</th>\n",
              "      <td>3</td>\n",
              "      <td>5</td>\n",
              "      <td>5</td>\n",
              "      <td>5</td>\n",
              "    </tr>\n",
              "  </tbody>\n",
              "</table>\n",
              "</div>\n",
              "    <div class=\"colab-df-buttons\">\n",
              "\n",
              "  <div class=\"colab-df-container\">\n",
              "    <button class=\"colab-df-convert\" onclick=\"convertToInteractive('df-adc0d886-3ecf-4854-aa43-3b58b537900b')\"\n",
              "            title=\"Convert this dataframe to an interactive table.\"\n",
              "            style=\"display:none;\">\n",
              "\n",
              "  <svg xmlns=\"http://www.w3.org/2000/svg\" height=\"24px\" viewBox=\"0 -960 960 960\">\n",
              "    <path d=\"M120-120v-720h720v720H120Zm60-500h600v-160H180v160Zm220 220h160v-160H400v160Zm0 220h160v-160H400v160ZM180-400h160v-160H180v160Zm440 0h160v-160H620v160ZM180-180h160v-160H180v160Zm440 0h160v-160H620v160Z\"/>\n",
              "  </svg>\n",
              "    </button>\n",
              "\n",
              "  <style>\n",
              "    .colab-df-container {\n",
              "      display:flex;\n",
              "      gap: 12px;\n",
              "    }\n",
              "\n",
              "    .colab-df-convert {\n",
              "      background-color: #E8F0FE;\n",
              "      border: none;\n",
              "      border-radius: 50%;\n",
              "      cursor: pointer;\n",
              "      display: none;\n",
              "      fill: #1967D2;\n",
              "      height: 32px;\n",
              "      padding: 0 0 0 0;\n",
              "      width: 32px;\n",
              "    }\n",
              "\n",
              "    .colab-df-convert:hover {\n",
              "      background-color: #E2EBFA;\n",
              "      box-shadow: 0px 1px 2px rgba(60, 64, 67, 0.3), 0px 1px 3px 1px rgba(60, 64, 67, 0.15);\n",
              "      fill: #174EA6;\n",
              "    }\n",
              "\n",
              "    .colab-df-buttons div {\n",
              "      margin-bottom: 4px;\n",
              "    }\n",
              "\n",
              "    [theme=dark] .colab-df-convert {\n",
              "      background-color: #3B4455;\n",
              "      fill: #D2E3FC;\n",
              "    }\n",
              "\n",
              "    [theme=dark] .colab-df-convert:hover {\n",
              "      background-color: #434B5C;\n",
              "      box-shadow: 0px 1px 3px 1px rgba(0, 0, 0, 0.15);\n",
              "      filter: drop-shadow(0px 1px 2px rgba(0, 0, 0, 0.3));\n",
              "      fill: #FFFFFF;\n",
              "    }\n",
              "  </style>\n",
              "\n",
              "    <script>\n",
              "      const buttonEl =\n",
              "        document.querySelector('#df-adc0d886-3ecf-4854-aa43-3b58b537900b button.colab-df-convert');\n",
              "      buttonEl.style.display =\n",
              "        google.colab.kernel.accessAllowed ? 'block' : 'none';\n",
              "\n",
              "      async function convertToInteractive(key) {\n",
              "        const element = document.querySelector('#df-adc0d886-3ecf-4854-aa43-3b58b537900b');\n",
              "        const dataTable =\n",
              "          await google.colab.kernel.invokeFunction('convertToInteractive',\n",
              "                                                    [key], {});\n",
              "        if (!dataTable) return;\n",
              "\n",
              "        const docLinkHtml = 'Like what you see? Visit the ' +\n",
              "          '<a target=\"_blank\" href=https://colab.research.google.com/notebooks/data_table.ipynb>data table notebook</a>'\n",
              "          + ' to learn more about interactive tables.';\n",
              "        element.innerHTML = '';\n",
              "        dataTable['output_type'] = 'display_data';\n",
              "        await google.colab.output.renderOutput(dataTable, element);\n",
              "        const docLink = document.createElement('div');\n",
              "        docLink.innerHTML = docLinkHtml;\n",
              "        element.appendChild(docLink);\n",
              "      }\n",
              "    </script>\n",
              "  </div>\n",
              "\n",
              "\n",
              "<div id=\"df-c49890f2-6bbc-4588-a3ef-041f09f53dbe\">\n",
              "  <button class=\"colab-df-quickchart\" onclick=\"quickchart('df-c49890f2-6bbc-4588-a3ef-041f09f53dbe')\"\n",
              "            title=\"Suggest charts\"\n",
              "            style=\"display:none;\">\n",
              "\n",
              "<svg xmlns=\"http://www.w3.org/2000/svg\" height=\"24px\"viewBox=\"0 0 24 24\"\n",
              "     width=\"24px\">\n",
              "    <g>\n",
              "        <path d=\"M19 3H5c-1.1 0-2 .9-2 2v14c0 1.1.9 2 2 2h14c1.1 0 2-.9 2-2V5c0-1.1-.9-2-2-2zM9 17H7v-7h2v7zm4 0h-2V7h2v10zm4 0h-2v-4h2v4z\"/>\n",
              "    </g>\n",
              "</svg>\n",
              "  </button>\n",
              "\n",
              "<style>\n",
              "  .colab-df-quickchart {\n",
              "      --bg-color: #E8F0FE;\n",
              "      --fill-color: #1967D2;\n",
              "      --hover-bg-color: #E2EBFA;\n",
              "      --hover-fill-color: #174EA6;\n",
              "      --disabled-fill-color: #AAA;\n",
              "      --disabled-bg-color: #DDD;\n",
              "  }\n",
              "\n",
              "  [theme=dark] .colab-df-quickchart {\n",
              "      --bg-color: #3B4455;\n",
              "      --fill-color: #D2E3FC;\n",
              "      --hover-bg-color: #434B5C;\n",
              "      --hover-fill-color: #FFFFFF;\n",
              "      --disabled-bg-color: #3B4455;\n",
              "      --disabled-fill-color: #666;\n",
              "  }\n",
              "\n",
              "  .colab-df-quickchart {\n",
              "    background-color: var(--bg-color);\n",
              "    border: none;\n",
              "    border-radius: 50%;\n",
              "    cursor: pointer;\n",
              "    display: none;\n",
              "    fill: var(--fill-color);\n",
              "    height: 32px;\n",
              "    padding: 0;\n",
              "    width: 32px;\n",
              "  }\n",
              "\n",
              "  .colab-df-quickchart:hover {\n",
              "    background-color: var(--hover-bg-color);\n",
              "    box-shadow: 0 1px 2px rgba(60, 64, 67, 0.3), 0 1px 3px 1px rgba(60, 64, 67, 0.15);\n",
              "    fill: var(--button-hover-fill-color);\n",
              "  }\n",
              "\n",
              "  .colab-df-quickchart-complete:disabled,\n",
              "  .colab-df-quickchart-complete:disabled:hover {\n",
              "    background-color: var(--disabled-bg-color);\n",
              "    fill: var(--disabled-fill-color);\n",
              "    box-shadow: none;\n",
              "  }\n",
              "\n",
              "  .colab-df-spinner {\n",
              "    border: 2px solid var(--fill-color);\n",
              "    border-color: transparent;\n",
              "    border-bottom-color: var(--fill-color);\n",
              "    animation:\n",
              "      spin 1s steps(1) infinite;\n",
              "  }\n",
              "\n",
              "  @keyframes spin {\n",
              "    0% {\n",
              "      border-color: transparent;\n",
              "      border-bottom-color: var(--fill-color);\n",
              "      border-left-color: var(--fill-color);\n",
              "    }\n",
              "    20% {\n",
              "      border-color: transparent;\n",
              "      border-left-color: var(--fill-color);\n",
              "      border-top-color: var(--fill-color);\n",
              "    }\n",
              "    30% {\n",
              "      border-color: transparent;\n",
              "      border-left-color: var(--fill-color);\n",
              "      border-top-color: var(--fill-color);\n",
              "      border-right-color: var(--fill-color);\n",
              "    }\n",
              "    40% {\n",
              "      border-color: transparent;\n",
              "      border-right-color: var(--fill-color);\n",
              "      border-top-color: var(--fill-color);\n",
              "    }\n",
              "    60% {\n",
              "      border-color: transparent;\n",
              "      border-right-color: var(--fill-color);\n",
              "    }\n",
              "    80% {\n",
              "      border-color: transparent;\n",
              "      border-right-color: var(--fill-color);\n",
              "      border-bottom-color: var(--fill-color);\n",
              "    }\n",
              "    90% {\n",
              "      border-color: transparent;\n",
              "      border-bottom-color: var(--fill-color);\n",
              "    }\n",
              "  }\n",
              "</style>\n",
              "\n",
              "  <script>\n",
              "    async function quickchart(key) {\n",
              "      const quickchartButtonEl =\n",
              "        document.querySelector('#' + key + ' button');\n",
              "      quickchartButtonEl.disabled = true;  // To prevent multiple clicks.\n",
              "      quickchartButtonEl.classList.add('colab-df-spinner');\n",
              "      try {\n",
              "        const charts = await google.colab.kernel.invokeFunction(\n",
              "            'suggestCharts', [key], {});\n",
              "      } catch (error) {\n",
              "        console.error('Error during call to suggestCharts:', error);\n",
              "      }\n",
              "      quickchartButtonEl.classList.remove('colab-df-spinner');\n",
              "      quickchartButtonEl.classList.add('colab-df-quickchart-complete');\n",
              "    }\n",
              "    (() => {\n",
              "      let quickchartButtonEl =\n",
              "        document.querySelector('#df-c49890f2-6bbc-4588-a3ef-041f09f53dbe button');\n",
              "      quickchartButtonEl.style.display =\n",
              "        google.colab.kernel.accessAllowed ? 'block' : 'none';\n",
              "    })();\n",
              "  </script>\n",
              "</div>\n",
              "    </div>\n",
              "  </div>\n"
            ]
          },
          "metadata": {},
          "execution_count": 19
        }
      ]
    },
    {
      "cell_type": "code",
      "source": [
        "X_.dtypes"
      ],
      "metadata": {
        "colab": {
          "base_uri": "https://localhost:8080/"
        },
        "id": "HxZUEL8YbPVi",
        "outputId": "636af586-3aea-4236-de99-246ac9c9b07a"
      },
      "execution_count": 20,
      "outputs": [
        {
          "output_type": "execute_result",
          "data": {
            "text/plain": [
              "fecha_noticia       int64\n",
              "titulo_noticia      int64\n",
              "texto_noticia       int64\n",
              "longitud_noticia    int64\n",
              "dtype: object"
            ]
          },
          "metadata": {},
          "execution_count": 20
        }
      ]
    },
    {
      "cell_type": "markdown",
      "source": [
        "Entrenamiento y prueba de datos"
      ],
      "metadata": {
        "id": "Z_Su_nznbUA6"
      }
    },
    {
      "cell_type": "code",
      "source": [
        "from sklearn.model_selection import train_test_split\n",
        "\n",
        "X_train_, X_test_, y_train_, y_test_ = train_test_split(X_,y_,test_size=0.3, random_state=42)"
      ],
      "metadata": {
        "id": "ebndOOODbXsW"
      },
      "execution_count": 21,
      "outputs": []
    },
    {
      "cell_type": "code",
      "source": [
        "print('X:',X_.shape, X_.shape)\n",
        "print('y:',y_.shape, y_.shape)"
      ],
      "metadata": {
        "colab": {
          "base_uri": "https://localhost:8080/"
        },
        "id": "K3GTz6eubbeX",
        "outputId": "34fd1e86-f41d-4160-8dff-1bcf97c68c1b"
      },
      "execution_count": 22,
      "outputs": [
        {
          "output_type": "stream",
          "name": "stdout",
          "text": [
            "X: (28276, 4) (28276, 4)\n",
            "y: (28276,) (28276,)\n"
          ]
        }
      ]
    },
    {
      "cell_type": "markdown",
      "source": [
        "Entrenamiento del modelo"
      ],
      "metadata": {
        "id": "oeZwZ9iebrkn"
      }
    },
    {
      "cell_type": "code",
      "source": [
        "from sklearn.tree import DecisionTreeClassifier\n",
        "\n",
        "# Instancia del modelo\n",
        "tree_ = DecisionTreeClassifier(random_state=42)"
      ],
      "metadata": {
        "id": "PlQ0P24Gbt6V"
      },
      "execution_count": 23,
      "outputs": []
    },
    {
      "cell_type": "markdown",
      "source": [
        "Optimización de parámetros\n"
      ],
      "metadata": {
        "id": "K_3rRnUQbzdK"
      }
    },
    {
      "cell_type": "code",
      "source": [
        "from sklearn.model_selection import GridSearchCV\n",
        "\n",
        "# parametros del decision tree\n",
        "param_grid = {'criterion': ['gini', 'entropy'], 'max_depth': [2, 3, 4, 5]}"
      ],
      "metadata": {
        "id": "6b8L_jD0b3Yd"
      },
      "execution_count": 24,
      "outputs": []
    },
    {
      "cell_type": "code",
      "source": [
        "# Realizar la búsqueda de hiperparámetros utilizando GridSearchCV\n",
        "grid_search = GridSearchCV(tree_, param_grid=param_grid, cv=10, return_train_score=True)\n",
        "grid_search.fit(X_, y_)\n",
        "\n",
        "# Imprimir los resultados\n",
        "print(\"Mejores hiperparámetros encontrados:\")\n",
        "print(grid_search.best_params_)\n",
        "print(\"Mejor puntuación de validación cruzada:\")\n",
        "print(grid_search.best_score_)"
      ],
      "metadata": {
        "colab": {
          "base_uri": "https://localhost:8080/"
        },
        "id": "1VzT8y70cEH1",
        "outputId": "ddbae607-2aff-4069-f2d5-3ab767319372"
      },
      "execution_count": 25,
      "outputs": [
        {
          "output_type": "stream",
          "name": "stdout",
          "text": [
            "Mejores hiperparámetros encontrados:\n",
            "{'criterion': 'entropy', 'max_depth': 4}\n",
            "Mejor puntuación de validación cruzada:\n",
            "0.9147653411811444\n"
          ]
        }
      ]
    },
    {
      "cell_type": "code",
      "source": [
        "# Modelo decision tree con parametros optimizados\n",
        "best_tree_ = grid_search.best_estimator_"
      ],
      "metadata": {
        "id": "oHF6xr95cWip"
      },
      "execution_count": 26,
      "outputs": []
    },
    {
      "cell_type": "code",
      "source": [
        "# Predecimos Y\n",
        "y_train_pred_tree_ = best_tree_.predict(X_train_)\n",
        "y_test_pred_tree_= best_tree_.predict(X_test_)"
      ],
      "metadata": {
        "id": "G49T_iopca_x"
      },
      "execution_count": 27,
      "outputs": []
    },
    {
      "cell_type": "markdown",
      "source": [
        "Evaluacion del modelo"
      ],
      "metadata": {
        "id": "vLABQZ2cchfY"
      }
    },
    {
      "cell_type": "code",
      "source": [
        "from sklearn.metrics import accuracy_score, classification_report"
      ],
      "metadata": {
        "id": "-5GSy9lCch5b"
      },
      "execution_count": 28,
      "outputs": []
    },
    {
      "cell_type": "code",
      "source": [
        "# Calculo el accuract en train\n",
        "train_acc = accuracy_score(y_true=y_test_,y_pred=y_test_pred_tree_)\n",
        "# Calculo el accuract en test\n",
        "test_acc  = accuracy_score(y_true=y_train_,y_pred=y_train_pred_tree_)"
      ],
      "metadata": {
        "id": "G_r6yUiIclNb"
      },
      "execution_count": 29,
      "outputs": []
    },
    {
      "cell_type": "code",
      "source": [
        "print(\"El accuracy en train es:\",train_acc)\n",
        "print(\"El accuracy en test es:\",test_acc)"
      ],
      "metadata": {
        "colab": {
          "base_uri": "https://localhost:8080/"
        },
        "id": "AnPWtQrXctte",
        "outputId": "00c8c785-5a8f-4363-bc12-22e2999bea66"
      },
      "execution_count": 30,
      "outputs": [
        {
          "output_type": "stream",
          "name": "stdout",
          "text": [
            "El accuracy en train es: 0.9952846870211011\n",
            "El accuracy en test es: 0.9942909109281058\n"
          ]
        }
      ]
    },
    {
      "cell_type": "markdown",
      "source": [
        "La precisión en los conjuntos de datos de entrenamiento y prueba están muy cercanas, lo que sugiere que el modelo no está sufriendo de sobreajuste."
      ],
      "metadata": {
        "id": "EOw0IXNCcxHL"
      }
    },
    {
      "cell_type": "code",
      "source": [
        "print(classification_report(y_test_,y_test_pred_tree_))\n"
      ],
      "metadata": {
        "colab": {
          "base_uri": "https://localhost:8080/"
        },
        "id": "nx9XzeCLcxrd",
        "outputId": "41d5fe4a-acde-4e68-e230-8f71fa211af4"
      },
      "execution_count": 31,
      "outputs": [
        {
          "output_type": "stream",
          "name": "stdout",
          "text": [
            "                    precision    recall  f1-score   support\n",
            "\n",
            "ciencia_tecnologia       1.00      1.00      1.00       924\n",
            "           cultura       0.96      1.00      0.98       879\n",
            "          deportes       1.00      1.00      1.00       741\n",
            "          economia       1.00      0.97      0.99       481\n",
            "         educacion       1.00      1.00      1.00       994\n",
            "   entretenimiento       1.00      1.00      1.00       950\n",
            "         horoscopo       1.00      1.00      1.00       996\n",
            "     medioambiente       1.00      0.99      1.00       938\n",
            "          politica       1.00      1.00      1.00       862\n",
            "             salud       1.00      0.97      0.99       718\n",
            "\n",
            "          accuracy                           1.00      8483\n",
            "         macro avg       1.00      0.99      0.99      8483\n",
            "      weighted avg       1.00      1.00      1.00      8483\n",
            "\n"
          ]
        }
      ]
    },
    {
      "cell_type": "markdown",
      "source": [
        "Podemos observar que el f1-score del atributo 'cultura' un poco mas bajo, los demas son todos valores altos. Esto sugiere que el modelo tiene dificultades para clasificar correctamente las clase 'cultura' ,'economia' y 'salud'.\n",
        "\n",
        "El f1-score promedio general es de 1.00, lo cual indica que el modelo tiene un buen rendimiento general en la clasificación de las distintas clases."
      ],
      "metadata": {
        "id": "e_hrB3MPc-HF"
      }
    },
    {
      "cell_type": "code",
      "source": [
        "feature_scores_car = pd.DataFrame(pd.Series(best_tree_.feature_importances_, index=X_train_.columns).sort_values(ascending=False)).T\n",
        "plt.figure(figsize=(12,6))\n",
        "sns.barplot(data=feature_scores_car)\n",
        "\n",
        "for index, value in enumerate(feature_scores_car.values.flatten()):\n",
        "    plt.annotate(f'{value:.2f}', xy=(index, value), ha='center', va='bottom')\n",
        "\n",
        "\n",
        "plt.title(\"Factores clave en la predicción de la categoria de una noticia\")\n",
        "plt.show()\n",
        "pd.DataFrame(feature_scores_car.T)"
      ],
      "metadata": {
        "colab": {
          "base_uri": "https://localhost:8080/",
          "height": 709
        },
        "id": "MWbIKCqnd3OV",
        "outputId": "867a1c41-5f79-4b4c-ffab-86597acc3df9"
      },
      "execution_count": 32,
      "outputs": [
        {
          "output_type": "display_data",
          "data": {
            "text/plain": [
              "<Figure size 1200x600 with 1 Axes>"
            ],
            "image/png": "[encoded data removed]"
          },
          "metadata": {}
        },
        {
          "output_type": "execute_result",
          "data": {
            "text/plain": [
              "                         0\n",
              "texto_noticia     0.839060\n",
              "titulo_noticia    0.160834\n",
              "fecha_noticia     0.000106\n",
              "longitud_noticia  0.000000"
            ],
            "text/html": [
              "\n",
              "  <div id=\"df-ca12cfe7-d9d5-4aa6-8132-83c9bf69350e\" class=\"colab-df-container\">\n",
              "    <div>\n",
              "<style scoped>\n",
              "    .dataframe tbody tr th:only-of-type {\n",
              "        vertical-align: middle;\n",
              "    }\n",
              "\n",
              "    .dataframe tbody tr th {\n",
              "        vertical-align: top;\n",
              "    }\n",
              "\n",
              "    .dataframe thead th {\n",
              "        text-align: right;\n",
              "    }\n",
              "</style>\n",
              "<table border=\"1\" class=\"dataframe\">\n",
              "  <thead>\n",
              "    <tr style=\"text-align: right;\">\n",
              "      <th></th>\n",
              "      <th>0</th>\n",
              "    </tr>\n",
              "  </thead>\n",
              "  <tbody>\n",
              "    <tr>\n",
              "      <th>texto_noticia</th>\n",
              "      <td>0.839060</td>\n",
              "    </tr>\n",
              "    <tr>\n",
              "      <th>titulo_noticia</th>\n",
              "      <td>0.160834</td>\n",
              "    </tr>\n",
              "    <tr>\n",
              "      <th>fecha_noticia</th>\n",
              "      <td>0.000106</td>\n",
              "    </tr>\n",
              "    <tr>\n",
              "      <th>longitud_noticia</th>\n",
              "      <td>0.000000</td>\n",
              "    </tr>\n",
              "  </tbody>\n",
              "</table>\n",
              "</div>\n",
              "    <div class=\"colab-df-buttons\">\n",
              "\n",
              "  <div class=\"colab-df-container\">\n",
              "    <button class=\"colab-df-convert\" onclick=\"convertToInteractive('df-ca12cfe7-d9d5-4aa6-8132-83c9bf69350e')\"\n",
              "            title=\"Convert this dataframe to an interactive table.\"\n",
              "            style=\"display:none;\">\n",
              "\n",
              "  <svg xmlns=\"http://www.w3.org/2000/svg\" height=\"24px\" viewBox=\"0 -960 960 960\">\n",
              "    <path d=\"M120-120v-720h720v720H120Zm60-500h600v-160H180v160Zm220 220h160v-160H400v160Zm0 220h160v-160H400v160ZM180-400h160v-160H180v160Zm440 0h160v-160H620v160ZM180-180h160v-160H180v160Zm440 0h160v-160H620v160Z\"/>\n",
              "  </svg>\n",
              "    </button>\n",
              "\n",
              "  <style>\n",
              "    .colab-df-container {\n",
              "      display:flex;\n",
              "      gap: 12px;\n",
              "    }\n",
              "\n",
              "    .colab-df-convert {\n",
              "      background-color: #E8F0FE;\n",
              "      border: none;\n",
              "      border-radius: 50%;\n",
              "      cursor: pointer;\n",
              "      display: none;\n",
              "      fill: #1967D2;\n",
              "      height: 32px;\n",
              "      padding: 0 0 0 0;\n",
              "      width: 32px;\n",
              "    }\n",
              "\n",
              "    .colab-df-convert:hover {\n",
              "      background-color: #E2EBFA;\n",
              "      box-shadow: 0px 1px 2px rgba(60, 64, 67, 0.3), 0px 1px 3px 1px rgba(60, 64, 67, 0.15);\n",
              "      fill: #174EA6;\n",
              "    }\n",
              "\n",
              "    .colab-df-buttons div {\n",
              "      margin-bottom: 4px;\n",
              "    }\n",
              "\n",
              "    [theme=dark] .colab-df-convert {\n",
              "      background-color: #3B4455;\n",
              "      fill: #D2E3FC;\n",
              "    }\n",
              "\n",
              "    [theme=dark] .colab-df-convert:hover {\n",
              "      background-color: #434B5C;\n",
              "      box-shadow: 0px 1px 3px 1px rgba(0, 0, 0, 0.15);\n",
              "      filter: drop-shadow(0px 1px 2px rgba(0, 0, 0, 0.3));\n",
              "      fill: #FFFFFF;\n",
              "    }\n",
              "  </style>\n",
              "\n",
              "    <script>\n",
              "      const buttonEl =\n",
              "        document.querySelector('#df-ca12cfe7-d9d5-4aa6-8132-83c9bf69350e button.colab-df-convert');\n",
              "      buttonEl.style.display =\n",
              "        google.colab.kernel.accessAllowed ? 'block' : 'none';\n",
              "\n",
              "      async function convertToInteractive(key) {\n",
              "        const element = document.querySelector('#df-ca12cfe7-d9d5-4aa6-8132-83c9bf69350e');\n",
              "        const dataTable =\n",
              "          await google.colab.kernel.invokeFunction('convertToInteractive',\n",
              "                                                    [key], {});\n",
              "        if (!dataTable) return;\n",
              "\n",
              "        const docLinkHtml = 'Like what you see? Visit the ' +\n",
              "          '<a target=\"_blank\" href=https://colab.research.google.com/notebooks/data_table.ipynb>data table notebook</a>'\n",
              "          + ' to learn more about interactive tables.';\n",
              "        element.innerHTML = '';\n",
              "        dataTable['output_type'] = 'display_data';\n",
              "        await google.colab.output.renderOutput(dataTable, element);\n",
              "        const docLink = document.createElement('div');\n",
              "        docLink.innerHTML = docLinkHtml;\n",
              "        element.appendChild(docLink);\n",
              "      }\n",
              "    </script>\n",
              "  </div>\n",
              "\n",
              "\n",
              "<div id=\"df-d5aebdb0-ee5d-443b-8dc4-12af50c518ca\">\n",
              "  <button class=\"colab-df-quickchart\" onclick=\"quickchart('df-d5aebdb0-ee5d-443b-8dc4-12af50c518ca')\"\n",
              "            title=\"Suggest charts\"\n",
              "            style=\"display:none;\">\n",
              "\n",
              "<svg xmlns=\"http://www.w3.org/2000/svg\" height=\"24px\"viewBox=\"0 0 24 24\"\n",
              "     width=\"24px\">\n",
              "    <g>\n",
              "        <path d=\"M19 3H5c-1.1 0-2 .9-2 2v14c0 1.1.9 2 2 2h14c1.1 0 2-.9 2-2V5c0-1.1-.9-2-2-2zM9 17H7v-7h2v7zm4 0h-2V7h2v10zm4 0h-2v-4h2v4z\"/>\n",
              "    </g>\n",
              "</svg>\n",
              "  </button>\n",
              "\n",
              "<style>\n",
              "  .colab-df-quickchart {\n",
              "      --bg-color: #E8F0FE;\n",
              "      --fill-color: #1967D2;\n",
              "      --hover-bg-color: #E2EBFA;\n",
              "      --hover-fill-color: #174EA6;\n",
              "      --disabled-fill-color: #AAA;\n",
              "      --disabled-bg-color: #DDD;\n",
              "  }\n",
              "\n",
              "  [theme=dark] .colab-df-quickchart {\n",
              "      --bg-color: #3B4455;\n",
              "      --fill-color: #D2E3FC;\n",
              "      --hover-bg-color: #434B5C;\n",
              "      --hover-fill-color: #FFFFFF;\n",
              "      --disabled-bg-color: #3B4455;\n",
              "      --disabled-fill-color: #666;\n",
              "  }\n",
              "\n",
              "  .colab-df-quickchart {\n",
              "    background-color: var(--bg-color);\n",
              "    border: none;\n",
              "    border-radius: 50%;\n",
              "    cursor: pointer;\n",
              "    display: none;\n",
              "    fill: var(--fill-color);\n",
              "    height: 32px;\n",
              "    padding: 0;\n",
              "    width: 32px;\n",
              "  }\n",
              "\n",
              "  .colab-df-quickchart:hover {\n",
              "    background-color: var(--hover-bg-color);\n",
              "    box-shadow: 0 1px 2px rgba(60, 64, 67, 0.3), 0 1px 3px 1px rgba(60, 64, 67, 0.15);\n",
              "    fill: var(--button-hover-fill-color);\n",
              "  }\n",
              "\n",
              "  .colab-df-quickchart-complete:disabled,\n",
              "  .colab-df-quickchart-complete:disabled:hover {\n",
              "    background-color: var(--disabled-bg-color);\n",
              "    fill: var(--disabled-fill-color);\n",
              "    box-shadow: none;\n",
              "  }\n",
              "\n",
              "  .colab-df-spinner {\n",
              "    border: 2px solid var(--fill-color);\n",
              "    border-color: transparent;\n",
              "    border-bottom-color: var(--fill-color);\n",
              "    animation:\n",
              "      spin 1s steps(1) infinite;\n",
              "  }\n",
              "\n",
              "  @keyframes spin {\n",
              "    0% {\n",
              "      border-color: transparent;\n",
              "      border-bottom-color: var(--fill-color);\n",
              "      border-left-color: var(--fill-color);\n",
              "    }\n",
              "    20% {\n",
              "      border-color: transparent;\n",
              "      border-left-color: var(--fill-color);\n",
              "      border-top-color: var(--fill-color);\n",
              "    }\n",
              "    30% {\n",
              "      border-color: transparent;\n",
              "      border-left-color: var(--fill-color);\n",
              "      border-top-color: var(--fill-color);\n",
              "      border-right-color: var(--fill-color);\n",
              "    }\n",
              "    40% {\n",
              "      border-color: transparent;\n",
              "      border-right-color: var(--fill-color);\n",
              "      border-top-color: var(--fill-color);\n",
              "    }\n",
              "    60% {\n",
              "      border-color: transparent;\n",
              "      border-right-color: var(--fill-color);\n",
              "    }\n",
              "    80% {\n",
              "      border-color: transparent;\n",
              "      border-right-color: var(--fill-color);\n",
              "      border-bottom-color: var(--fill-color);\n",
              "    }\n",
              "    90% {\n",
              "      border-color: transparent;\n",
              "      border-bottom-color: var(--fill-color);\n",
              "    }\n",
              "  }\n",
              "</style>\n",
              "\n",
              "  <script>\n",
              "    async function quickchart(key) {\n",
              "      const quickchartButtonEl =\n",
              "        document.querySelector('#' + key + ' button');\n",
              "      quickchartButtonEl.disabled = true;  // To prevent multiple clicks.\n",
              "      quickchartButtonEl.classList.add('colab-df-spinner');\n",
              "      try {\n",
              "        const charts = await google.colab.kernel.invokeFunction(\n",
              "            'suggestCharts', [key], {});\n",
              "      } catch (error) {\n",
              "        console.error('Error during call to suggestCharts:', error);\n",
              "      }\n",
              "      quickchartButtonEl.classList.remove('colab-df-spinner');\n",
              "      quickchartButtonEl.classList.add('colab-df-quickchart-complete');\n",
              "    }\n",
              "    (() => {\n",
              "      let quickchartButtonEl =\n",
              "        document.querySelector('#df-d5aebdb0-ee5d-443b-8dc4-12af50c518ca button');\n",
              "      quickchartButtonEl.style.display =\n",
              "        google.colab.kernel.accessAllowed ? 'block' : 'none';\n",
              "    })();\n",
              "  </script>\n",
              "</div>\n",
              "    </div>\n",
              "  </div>\n"
            ]
          },
          "metadata": {},
          "execution_count": 32
        }
      ]
    },
    {
      "cell_type": "markdown",
      "source": [
        "El texto_noticia y el titulo_noticia son factores cruciales en la determinación de su clasificación.\n"
      ],
      "metadata": {
        "id": "-mEVLkn5CO0j"
      }
    },
    {
      "cell_type": "code",
      "source": [
        "plt.figure(figsize = (20,10))\n",
        "from sklearn import tree\n",
        "\n",
        "tree.plot_tree(best_tree_.fit(X_train_, y_train_));"
      ],
      "metadata": {
        "colab": {
          "base_uri": "https://localhost:8080/",
          "height": 643
        },
        "id": "NUrF1wr8CNRZ",
        "outputId": "4b5e3565-7609-4353-949c-cc2078bc374a"
      },
      "execution_count": 34,
      "outputs": [
        {
          "output_type": "display_data",
          "data": {
            "text/plain": [
              "<Figure size 2000x1000 with 1 Axes>"
            ],
            "image/png": "[encoded data removed]"
          },
          "metadata": {}
        }
      ]
    }
  ]
}