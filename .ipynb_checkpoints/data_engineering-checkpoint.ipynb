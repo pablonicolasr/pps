{
 "cells": [
  {
   "cell_type": "code",
   "execution_count": 1,
   "id": "09f2416d-e8ae-4a81-bcfe-9a2713fc2426",
   "metadata": {},
   "outputs": [],
   "source": [
    "import requests\n",
    "import pandas as pd\n",
    "\n",
    "from bs4 import BeautifulSoup"
   ]
  },
  {
   "cell_type": "code",
   "execution_count": 2,
   "id": "081c1f6c-3ef0-4290-8e69-3396f9247e56",
   "metadata": {},
   "outputs": [],
   "source": [
    "# CONSTANTES\n",
    "\n",
    "URLS = [\n",
    "    'https://www.c5n.com/deportes/mundial-sub-17-argentina-cayo-frente-alemania-y-jugara-el-tercer-puesto-n136601',\n",
    "    'https://www.c5n.com/politica/javier-milei-se-reune-jake-sullivan-asesor-seguridad-nacional-joe-biden-n136598',\n",
    "    'https://www.c5n.com/economia/dolar-blue-hoy-cuanto-cotiza-el-28-noviembre-n136604',\n",
    "    'https://www.c5n.com/astrologia/horoscopo-hoy-martes-28-noviembre-n136580',\n",
    "    'https://www.c5n.com/tecnologia/alerta-android-una-app-mensajes-espia-tus-datos-n136409',\n",
    "    'https://www.c5n.com/ratingcero/emotivo-taylor-swift-recibio-la-familia-la-fanatica-que-murio-brasil-n136557'\n",
    "]"
   ]
  },
  {
   "cell_type": "code",
   "execution_count": 3,
   "id": "046e16de-0cdd-49a6-b795-2f48ec201707",
   "metadata": {},
   "outputs": [],
   "source": [
    "class NewsPipeline:\n",
    "\n",
    "    def __init__(self):\n",
    "\n",
    "        self.KEYWORDS = ['article', 'noticias', 'news', 'nota', '/']\n",
    "        self.PALABRAS_CLAVES = {\n",
    "            'salud': ['salud', 'medicina', 'enfermedad', 'medico', 'bienestar'],\n",
    "            'deportes': ['deportes', 'futbol', 'baloncesto', 'tenis', 'competicion'],\n",
    "            'medioambiente': ['medioambiente', 'ecologia', 'naturaleza', 'sostenibilidad', 'cambio climatico'],\n",
    "            'economia': ['economia', 'finanzas', 'negocios', 'mercado', 'inversion'],\n",
    "            'politica': ['politica', 'gobierno', 'elecciones', 'legislación', 'parlamento'],\n",
    "            'entretenimiento': ['entretenimiento', 'cine', 'musica', 'celebridades', 'espectaculos'],\n",
    "            'horoscopo': ['horoscopo', 'astrologia', 'signos zodiacales', 'predicciones', 'astrologia diaria'],\n",
    "            'cultura': ['cultura', 'arte', 'literatura', 'tradiciones', 'patrimonio'],\n",
    "            'ciencia_tecnologia': ['ciencia', 'tecnologia', 'innovacion', 'descubrimientos', 'avances cientificos'],\n",
    "            'educacion': ['educacion', 'escuela', 'aprendizaje', 'docentes', 'formacion']\n",
    "        }\n",
    "\n",
    "        self.fechas = []\n",
    "        \n",
    "        self.textos = []\n",
    "        \n",
    "        self.titulos = []\n",
    "        \n",
    "        self.categorias = []\n",
    "\n",
    "    def determinar_categoria(self, texto_noticia):\n",
    "        \n",
    "        for categoria, palabras in self.PALABRAS_CLAVES.items():\n",
    "            \n",
    "            for palabra in palabras:\n",
    "                \n",
    "                if palabra in texto_noticia.lower():\n",
    "                    \n",
    "                    return categoria\n",
    "                    \n",
    "        return \"OTRA\"\n",
    "\n",
    "    def scrape_noticia(self, url):\n",
    "        \n",
    "        response = requests.get(url)\n",
    "        \n",
    "        soup = BeautifulSoup(response.content, \"html.parser\")\n",
    "\n",
    "        titulo_noticia = soup.find(\"h1\").text.strip() if soup.find(\"h1\") else \"NO ESPECIFICADO\"\n",
    "\n",
    "        texto_noticia = \" \".join([p.text.strip() for p in soup.find_all(\"p\")])\n",
    "\n",
    "        categoria = self.determinar_categoria(texto_noticia)\n",
    "\n",
    "        fecha_noticia = soup.find([\"time\", \"span\", \"p\", \"publication-date\", \"fecha\"], {\"datetime\": True})\n",
    "        \n",
    "        fecha_noticia = fecha_noticia[\"datetime\"].strip() if fecha_noticia else \"FECHA NO ENCONTRADA\"\n",
    "\n",
    "        return titulo_noticia, texto_noticia, categoria, fecha_noticia\n",
    "\n",
    "    def create_csv(self, urls_list):\n",
    "\n",
    "        for url in urls_list:\n",
    "\n",
    "            result = self.scrape_noticia(url)\n",
    "            \n",
    "            self.fechas.append(result[3])\n",
    "            \n",
    "            self.textos.append(result[1])\n",
    "            \n",
    "            self.titulos.append(result[0])\n",
    "            \n",
    "            self.categorias.append(result[2])\n",
    "\n",
    "        data = {\n",
    "            'fecha_noticia': self.fechas,\n",
    "            'titulo_noticia': self.titulos,\n",
    "            'texto_noticia': self.textos,\n",
    "            'categoria': self.categorias\n",
    "        }\n",
    "\n",
    "        df = pd.DataFrame(data)\n",
    "\n",
    "        df['longitud_noticia'] = df['texto_noticia'].apply(len)\n",
    "        \n",
    "        df = df[['fecha_noticia', 'titulo_noticia', 'texto_noticia', 'longitud_noticia', 'categoria']]\n",
    "\n",
    "        df = df.sort_values(by=['categoria', 'fecha_noticia'])\n",
    "\n",
    "        output_file = 'data_news.xlsx'\n",
    "        \n",
    "        df.to_excel(output_file, index=False, engine='xlsxwriter')\n",
    "\n",
    "        print(df)\n",
    "\n",
    "        # Imprimir mensaje de confirmación\n",
    "        print(f\"Los datos se han guardado en '{output_file}'.\")\n",
    "\n",
    "    "
   ]
  },
  {
   "cell_type": "code",
   "execution_count": 4,
   "id": "922a7cfd-13e6-45fe-8520-91ae330b61d1",
   "metadata": {},
   "outputs": [],
   "source": [
    "npipe = NewsPipeline()"
   ]
  },
  {
   "cell_type": "code",
   "execution_count": 5,
   "id": "8ec225cb-049f-4bcc-9988-b5a8c30e9282",
   "metadata": {},
   "outputs": [
    {
     "ename": "NameError",
     "evalue": "name 'determinar_categoria' is not defined",
     "output_type": "error",
     "traceback": [
      "\u001b[1;31m---------------------------------------------------------------------------\u001b[0m",
      "\u001b[1;31mNameError\u001b[0m                                 Traceback (most recent call last)",
      "Cell \u001b[1;32mIn[5], line 1\u001b[0m\n\u001b[1;32m----> 1\u001b[0m \u001b[43mnpipe\u001b[49m\u001b[38;5;241;43m.\u001b[39;49m\u001b[43mcreate_csv\u001b[49m\u001b[43m(\u001b[49m\u001b[43mURLS\u001b[49m\u001b[43m)\u001b[49m\n",
      "Cell \u001b[1;32mIn[3], line 61\u001b[0m, in \u001b[0;36mNewsPipeline.create_csv\u001b[1;34m(self, urls_list)\u001b[0m\n\u001b[0;32m     57\u001b[0m \u001b[38;5;28;01mdef\u001b[39;00m \u001b[38;5;21mcreate_csv\u001b[39m(\u001b[38;5;28mself\u001b[39m, urls_list):\n\u001b[0;32m     59\u001b[0m     \u001b[38;5;28;01mfor\u001b[39;00m url \u001b[38;5;129;01min\u001b[39;00m urls_list:\n\u001b[1;32m---> 61\u001b[0m         result \u001b[38;5;241m=\u001b[39m \u001b[38;5;28;43mself\u001b[39;49m\u001b[38;5;241;43m.\u001b[39;49m\u001b[43mscrape_noticia\u001b[49m\u001b[43m(\u001b[49m\u001b[43murl\u001b[49m\u001b[43m)\u001b[49m\n\u001b[0;32m     63\u001b[0m         \u001b[38;5;28mself\u001b[39m\u001b[38;5;241m.\u001b[39mfechas\u001b[38;5;241m.\u001b[39mappend(result[\u001b[38;5;241m3\u001b[39m])\n\u001b[0;32m     65\u001b[0m         \u001b[38;5;28mself\u001b[39m\u001b[38;5;241m.\u001b[39mtextos\u001b[38;5;241m.\u001b[39mappend(result[\u001b[38;5;241m1\u001b[39m])\n",
      "Cell \u001b[1;32mIn[3], line 49\u001b[0m, in \u001b[0;36mNewsPipeline.scrape_noticia\u001b[1;34m(self, url)\u001b[0m\n\u001b[0;32m     45\u001b[0m titulo_noticia \u001b[38;5;241m=\u001b[39m soup\u001b[38;5;241m.\u001b[39mfind(\u001b[38;5;124m\"\u001b[39m\u001b[38;5;124mh1\u001b[39m\u001b[38;5;124m\"\u001b[39m)\u001b[38;5;241m.\u001b[39mtext\u001b[38;5;241m.\u001b[39mstrip() \u001b[38;5;28;01mif\u001b[39;00m soup\u001b[38;5;241m.\u001b[39mfind(\u001b[38;5;124m\"\u001b[39m\u001b[38;5;124mh1\u001b[39m\u001b[38;5;124m\"\u001b[39m) \u001b[38;5;28;01melse\u001b[39;00m \u001b[38;5;124m\"\u001b[39m\u001b[38;5;124mNO ESPECIFICADO\u001b[39m\u001b[38;5;124m\"\u001b[39m\n\u001b[0;32m     47\u001b[0m texto_noticia \u001b[38;5;241m=\u001b[39m \u001b[38;5;124m\"\u001b[39m\u001b[38;5;124m \u001b[39m\u001b[38;5;124m\"\u001b[39m\u001b[38;5;241m.\u001b[39mjoin([p\u001b[38;5;241m.\u001b[39mtext\u001b[38;5;241m.\u001b[39mstrip() \u001b[38;5;28;01mfor\u001b[39;00m p \u001b[38;5;129;01min\u001b[39;00m soup\u001b[38;5;241m.\u001b[39mfind_all(\u001b[38;5;124m\"\u001b[39m\u001b[38;5;124mp\u001b[39m\u001b[38;5;124m\"\u001b[39m)])\n\u001b[1;32m---> 49\u001b[0m categoria \u001b[38;5;241m=\u001b[39m \u001b[43mdeterminar_categoria\u001b[49m(texto_noticia)\n\u001b[0;32m     51\u001b[0m fecha_noticia \u001b[38;5;241m=\u001b[39m soup\u001b[38;5;241m.\u001b[39mfind([\u001b[38;5;124m\"\u001b[39m\u001b[38;5;124mtime\u001b[39m\u001b[38;5;124m\"\u001b[39m, \u001b[38;5;124m\"\u001b[39m\u001b[38;5;124mspan\u001b[39m\u001b[38;5;124m\"\u001b[39m, \u001b[38;5;124m\"\u001b[39m\u001b[38;5;124mp\u001b[39m\u001b[38;5;124m\"\u001b[39m, \u001b[38;5;124m\"\u001b[39m\u001b[38;5;124mpublication-date\u001b[39m\u001b[38;5;124m\"\u001b[39m, \u001b[38;5;124m\"\u001b[39m\u001b[38;5;124mfecha\u001b[39m\u001b[38;5;124m\"\u001b[39m], {\u001b[38;5;124m\"\u001b[39m\u001b[38;5;124mdatetime\u001b[39m\u001b[38;5;124m\"\u001b[39m: \u001b[38;5;28;01mTrue\u001b[39;00m})\n\u001b[0;32m     53\u001b[0m fecha_noticia \u001b[38;5;241m=\u001b[39m fecha_noticia[\u001b[38;5;124m\"\u001b[39m\u001b[38;5;124mdatetime\u001b[39m\u001b[38;5;124m\"\u001b[39m]\u001b[38;5;241m.\u001b[39mstrip() \u001b[38;5;28;01mif\u001b[39;00m fecha_noticia \u001b[38;5;28;01melse\u001b[39;00m \u001b[38;5;124m\"\u001b[39m\u001b[38;5;124mFECHA NO ENCONTRADA\u001b[39m\u001b[38;5;124m\"\u001b[39m\n",
      "\u001b[1;31mNameError\u001b[0m: name 'determinar_categoria' is not defined"
     ]
    }
   ],
   "source": [
    "npipe.create_csv(URLS)"
   ]
  },
  {
   "cell_type": "code",
   "execution_count": null,
   "id": "cda1aa16-dae8-4270-8e7f-67329e65d5f7",
   "metadata": {},
   "outputs": [],
   "source": []
  },
  {
   "cell_type": "code",
   "execution_count": null,
   "id": "3d174095-f3be-461e-b73b-99768eff6def",
   "metadata": {},
   "outputs": [],
   "source": []
  }
 ],
 "metadata": {
  "kernelspec": {
   "display_name": "Python 3 (ipykernel)",
   "language": "python",
   "name": "python3"
  },
  "language_info": {
   "codemirror_mode": {
    "name": "ipython",
    "version": 3
   },
   "file_extension": ".py",
   "mimetype": "text/x-python",
   "name": "python",
   "nbconvert_exporter": "python",
   "pygments_lexer": "ipython3",
   "version": "3.9.18"
  }
 },
 "nbformat": 4,
 "nbformat_minor": 5
}
